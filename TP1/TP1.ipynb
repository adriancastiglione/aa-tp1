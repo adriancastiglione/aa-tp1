{
 "cells": [
  {
   "cell_type": "markdown",
   "metadata": {},
   "source": [
    "# Trabajo Práctico 1 \n",
    "### Clasificación sobre datos simulados. \n",
    "\n",
    "## Introducción\n",
    "Para este trabajo, hemos creado una función generadora de minions. Sobre cada minion, hemos medido 200 características que representan habilidades que poseen en distintas tareas (relacionadas al Mal).  \n",
    "\n",
    "El doctor Nefario ha ideado una fórmula para determinar si un minion es o no apto para concretar su plan para conquistar el mundo. De esta manera ha etiquetado más de 500 minions. Lamentablemente, ha perdido dicha fórmula y necesita seguir decidiendo si nuevos minions son o no aptos para su macabro plan.\n",
    "\n",
    "Es por esto que nuestro objetivo será construir clasificadores que estimen lo mejor posible la probabilidad de que nuevos minions sean o no aptos para concretar el plan de conquista y así facilitarle las cosas al doctor Nefario.\n",
    "\n",
    "Por otra parte, ya que el doctor Nefario tuvo problemas con equipos que sobreestiman sus resultados, decidió guardarse varias etiquetas extra que no compartirá con nadie, y que luego utilizará para elegir al mejor equipo, al cual contratará para (de una vez por todas) conquistar el mundo. \n",
    "\n",
    "\n",
    "En concreto:\n",
    "\n",
    "Tendrán disponible una matriz de datos $X$ de $500$ filas en donde cada fila $x^{(i)}$ representa un vector de $200$ características de cada instancia. Es decir, $\\textbf{x}^{(i)} = x_1^{(i)}, \\dots, x_{200}^{(i)}$ con $i$ entre $1$ y $500$. Además, tendrán y, un vector de $500$ posiciones con dos posibles valores: $True$ y $False$. \n",
    "\n",
    "Por otra parte, tendrán disponibles más instancias de evaluación $X_{competencia}$ sin las respectivas etiquetas que utilizaremos para evaluar sus resultados. \n",
    "\n"
   ]
  },
  {
   "cell_type": "code",
   "execution_count": 7,
   "metadata": {},
   "outputs": [],
   "source": [
    "# PREAMBULOS\n",
    "%matplotlib inline\n",
    "\n",
    "SEED = 1234\n",
    "\n",
    "import warnings\n",
    "warnings.simplefilter(action='ignore', category=FutureWarning)\n",
    "from IPython.display import display, HTML\n",
    "from time import time\n",
    "\n",
    "import numpy as np\n",
    "np.set_printoptions(precision=4)\n",
    "np.random.seed(SEED)\n",
    "\n",
    "import pandas as  pd\n",
    "pd.set_option('display.max_rows', 10)\n",
    "pd.set_option('display.max_columns', 15)\n",
    "\n",
    "pd.set_option('precision', 4)\n",
    "\n",
    "import matplotlib.pyplot as plt\n",
    "\n",
    "import seaborn as sns\n",
    "\n",
    "import sklearn.ensemble\n",
    "import sklearn.naive_bayes\n",
    "import sklearn.svm\n",
    "\n",
    "import sklearn.model_selection\n",
    "from scipy.stats import randint as sp_randint"
   ]
  },
  {
   "cell_type": "code",
   "execution_count": 8,
   "metadata": {},
   "outputs": [
    {
     "data": {
      "text/html": [
       "<div>\n",
       "<style scoped>\n",
       "    .dataframe tbody tr th:only-of-type {\n",
       "        vertical-align: middle;\n",
       "    }\n",
       "\n",
       "    .dataframe tbody tr th {\n",
       "        vertical-align: top;\n",
       "    }\n",
       "\n",
       "    .dataframe thead th {\n",
       "        text-align: right;\n",
       "    }\n",
       "</style>\n",
       "<table border=\"1\" class=\"dataframe\">\n",
       "  <thead>\n",
       "    <tr style=\"text-align: right;\">\n",
       "      <th></th>\n",
       "      <th>0</th>\n",
       "      <th>1</th>\n",
       "      <th>2</th>\n",
       "      <th>3</th>\n",
       "      <th>4</th>\n",
       "      <th>5</th>\n",
       "      <th>6</th>\n",
       "      <th>...</th>\n",
       "      <th>193</th>\n",
       "      <th>194</th>\n",
       "      <th>195</th>\n",
       "      <th>196</th>\n",
       "      <th>197</th>\n",
       "      <th>198</th>\n",
       "      <th>199</th>\n",
       "    </tr>\n",
       "    <tr>\n",
       "      <th>index</th>\n",
       "      <th></th>\n",
       "      <th></th>\n",
       "      <th></th>\n",
       "      <th></th>\n",
       "      <th></th>\n",
       "      <th></th>\n",
       "      <th></th>\n",
       "      <th></th>\n",
       "      <th></th>\n",
       "      <th></th>\n",
       "      <th></th>\n",
       "      <th></th>\n",
       "      <th></th>\n",
       "      <th></th>\n",
       "      <th></th>\n",
       "    </tr>\n",
       "  </thead>\n",
       "  <tbody>\n",
       "    <tr>\n",
       "      <th>0</th>\n",
       "      <td>1.4914</td>\n",
       "      <td>0.1644</td>\n",
       "      <td>1.2315</td>\n",
       "      <td>1.2429</td>\n",
       "      <td>1.5576</td>\n",
       "      <td>0.0455</td>\n",
       "      <td>0.1302</td>\n",
       "      <td>...</td>\n",
       "      <td>-1.1983</td>\n",
       "      <td>-0.0118</td>\n",
       "      <td>1.5375</td>\n",
       "      <td>-0.7727</td>\n",
       "      <td>-0.1401</td>\n",
       "      <td>2.0871</td>\n",
       "      <td>-0.8312</td>\n",
       "    </tr>\n",
       "    <tr>\n",
       "      <th>1</th>\n",
       "      <td>-0.2749</td>\n",
       "      <td>0.2780</td>\n",
       "      <td>-1.3108</td>\n",
       "      <td>0.6801</td>\n",
       "      <td>-0.5503</td>\n",
       "      <td>0.6359</td>\n",
       "      <td>-0.4478</td>\n",
       "      <td>...</td>\n",
       "      <td>1.2190</td>\n",
       "      <td>-0.3190</td>\n",
       "      <td>-0.6446</td>\n",
       "      <td>-0.0061</td>\n",
       "      <td>-1.2374</td>\n",
       "      <td>-1.3291</td>\n",
       "      <td>-1.3265</td>\n",
       "    </tr>\n",
       "    <tr>\n",
       "      <th>2</th>\n",
       "      <td>-0.2243</td>\n",
       "      <td>-0.5710</td>\n",
       "      <td>-0.2712</td>\n",
       "      <td>-0.1328</td>\n",
       "      <td>-1.0045</td>\n",
       "      <td>0.9315</td>\n",
       "      <td>-1.4507</td>\n",
       "      <td>...</td>\n",
       "      <td>0.9459</td>\n",
       "      <td>0.1430</td>\n",
       "      <td>-0.1989</td>\n",
       "      <td>-0.0393</td>\n",
       "      <td>-0.5866</td>\n",
       "      <td>2.2507</td>\n",
       "      <td>1.4925</td>\n",
       "    </tr>\n",
       "    <tr>\n",
       "      <th>3</th>\n",
       "      <td>0.5853</td>\n",
       "      <td>-0.8532</td>\n",
       "      <td>-0.2723</td>\n",
       "      <td>-0.5493</td>\n",
       "      <td>-2.9824</td>\n",
       "      <td>-0.1697</td>\n",
       "      <td>-0.0430</td>\n",
       "      <td>...</td>\n",
       "      <td>1.6488</td>\n",
       "      <td>-0.7363</td>\n",
       "      <td>-0.8866</td>\n",
       "      <td>-1.2717</td>\n",
       "      <td>-0.1493</td>\n",
       "      <td>0.2007</td>\n",
       "      <td>-1.4820</td>\n",
       "    </tr>\n",
       "    <tr>\n",
       "      <th>4</th>\n",
       "      <td>-1.4155</td>\n",
       "      <td>1.4187</td>\n",
       "      <td>0.6027</td>\n",
       "      <td>-0.7993</td>\n",
       "      <td>0.2939</td>\n",
       "      <td>-0.1796</td>\n",
       "      <td>-0.7140</td>\n",
       "      <td>...</td>\n",
       "      <td>1.1314</td>\n",
       "      <td>-0.4230</td>\n",
       "      <td>-0.2685</td>\n",
       "      <td>0.3045</td>\n",
       "      <td>-1.2245</td>\n",
       "      <td>-1.9421</td>\n",
       "      <td>1.5186</td>\n",
       "    </tr>\n",
       "    <tr>\n",
       "      <th>...</th>\n",
       "      <td>...</td>\n",
       "      <td>...</td>\n",
       "      <td>...</td>\n",
       "      <td>...</td>\n",
       "      <td>...</td>\n",
       "      <td>...</td>\n",
       "      <td>...</td>\n",
       "      <td>...</td>\n",
       "      <td>...</td>\n",
       "      <td>...</td>\n",
       "      <td>...</td>\n",
       "      <td>...</td>\n",
       "      <td>...</td>\n",
       "      <td>...</td>\n",
       "      <td>...</td>\n",
       "    </tr>\n",
       "    <tr>\n",
       "      <th>495</th>\n",
       "      <td>0.2516</td>\n",
       "      <td>0.9375</td>\n",
       "      <td>-1.1980</td>\n",
       "      <td>0.4577</td>\n",
       "      <td>0.9287</td>\n",
       "      <td>0.5373</td>\n",
       "      <td>0.2476</td>\n",
       "      <td>...</td>\n",
       "      <td>0.5829</td>\n",
       "      <td>-0.5494</td>\n",
       "      <td>0.4607</td>\n",
       "      <td>1.2182</td>\n",
       "      <td>0.1025</td>\n",
       "      <td>3.0034</td>\n",
       "      <td>-0.0344</td>\n",
       "    </tr>\n",
       "    <tr>\n",
       "      <th>496</th>\n",
       "      <td>0.6246</td>\n",
       "      <td>-1.0590</td>\n",
       "      <td>0.9491</td>\n",
       "      <td>0.2687</td>\n",
       "      <td>0.6610</td>\n",
       "      <td>-1.6657</td>\n",
       "      <td>0.3982</td>\n",
       "      <td>...</td>\n",
       "      <td>-0.1075</td>\n",
       "      <td>0.8993</td>\n",
       "      <td>-0.4229</td>\n",
       "      <td>0.3977</td>\n",
       "      <td>-0.0808</td>\n",
       "      <td>-1.7054</td>\n",
       "      <td>-0.4786</td>\n",
       "    </tr>\n",
       "    <tr>\n",
       "      <th>497</th>\n",
       "      <td>0.2677</td>\n",
       "      <td>0.1802</td>\n",
       "      <td>0.7154</td>\n",
       "      <td>0.3542</td>\n",
       "      <td>-0.9023</td>\n",
       "      <td>-1.7792</td>\n",
       "      <td>-0.0121</td>\n",
       "      <td>...</td>\n",
       "      <td>0.8491</td>\n",
       "      <td>0.7469</td>\n",
       "      <td>0.2071</td>\n",
       "      <td>-1.0090</td>\n",
       "      <td>0.3317</td>\n",
       "      <td>-1.7513</td>\n",
       "      <td>-0.5397</td>\n",
       "    </tr>\n",
       "    <tr>\n",
       "      <th>498</th>\n",
       "      <td>0.1926</td>\n",
       "      <td>0.7834</td>\n",
       "      <td>1.7056</td>\n",
       "      <td>0.3418</td>\n",
       "      <td>-0.8350</td>\n",
       "      <td>0.4068</td>\n",
       "      <td>0.0495</td>\n",
       "      <td>...</td>\n",
       "      <td>-0.0130</td>\n",
       "      <td>0.1483</td>\n",
       "      <td>0.5019</td>\n",
       "      <td>-0.0020</td>\n",
       "      <td>-1.6642</td>\n",
       "      <td>2.5117</td>\n",
       "      <td>-0.0118</td>\n",
       "    </tr>\n",
       "    <tr>\n",
       "      <th>499</th>\n",
       "      <td>0.0427</td>\n",
       "      <td>0.4028</td>\n",
       "      <td>-0.6085</td>\n",
       "      <td>1.0845</td>\n",
       "      <td>0.1033</td>\n",
       "      <td>0.2698</td>\n",
       "      <td>-0.8598</td>\n",
       "      <td>...</td>\n",
       "      <td>-0.3587</td>\n",
       "      <td>-0.3121</td>\n",
       "      <td>-0.7630</td>\n",
       "      <td>0.6525</td>\n",
       "      <td>0.6161</td>\n",
       "      <td>-0.0902</td>\n",
       "      <td>-1.0215</td>\n",
       "    </tr>\n",
       "  </tbody>\n",
       "</table>\n",
       "<p>500 rows × 200 columns</p>\n",
       "</div>"
      ],
      "text/plain": [
       "            0       1       2       3       4       5       6   ...       193  \\\n",
       "index                                                           ...             \n",
       "0      1.4914  0.1644  1.2315  1.2429  1.5576  0.0455  0.1302   ...   -1.1983   \n",
       "1     -0.2749  0.2780 -1.3108  0.6801 -0.5503  0.6359 -0.4478   ...    1.2190   \n",
       "2     -0.2243 -0.5710 -0.2712 -0.1328 -1.0045  0.9315 -1.4507   ...    0.9459   \n",
       "3      0.5853 -0.8532 -0.2723 -0.5493 -2.9824 -0.1697 -0.0430   ...    1.6488   \n",
       "4     -1.4155  1.4187  0.6027 -0.7993  0.2939 -0.1796 -0.7140   ...    1.1314   \n",
       "...       ...     ...     ...     ...     ...     ...     ...   ...       ...   \n",
       "495    0.2516  0.9375 -1.1980  0.4577  0.9287  0.5373  0.2476   ...    0.5829   \n",
       "496    0.6246 -1.0590  0.9491  0.2687  0.6610 -1.6657  0.3982   ...   -0.1075   \n",
       "497    0.2677  0.1802  0.7154  0.3542 -0.9023 -1.7792 -0.0121   ...    0.8491   \n",
       "498    0.1926  0.7834  1.7056  0.3418 -0.8350  0.4068  0.0495   ...   -0.0130   \n",
       "499    0.0427  0.4028 -0.6085  1.0845  0.1033  0.2698 -0.8598   ...   -0.3587   \n",
       "\n",
       "          194     195     196     197     198     199  \n",
       "index                                                  \n",
       "0     -0.0118  1.5375 -0.7727 -0.1401  2.0871 -0.8312  \n",
       "1     -0.3190 -0.6446 -0.0061 -1.2374 -1.3291 -1.3265  \n",
       "2      0.1430 -0.1989 -0.0393 -0.5866  2.2507  1.4925  \n",
       "3     -0.7363 -0.8866 -1.2717 -0.1493  0.2007 -1.4820  \n",
       "4     -0.4230 -0.2685  0.3045 -1.2245 -1.9421  1.5186  \n",
       "...       ...     ...     ...     ...     ...     ...  \n",
       "495   -0.5494  0.4607  1.2182  0.1025  3.0034 -0.0344  \n",
       "496    0.8993 -0.4229  0.3977 -0.0808 -1.7054 -0.4786  \n",
       "497    0.7469  0.2071 -1.0090  0.3317 -1.7513 -0.5397  \n",
       "498    0.1483  0.5019 -0.0020 -1.6642  2.5117 -0.0118  \n",
       "499   -0.3121 -0.7630  0.6525  0.6161 -0.0902 -1.0215  \n",
       "\n",
       "[500 rows x 200 columns]"
      ]
     },
     "metadata": {},
     "output_type": "display_data"
    },
    {
     "data": {
      "text/html": [
       "<div>\n",
       "<style scoped>\n",
       "    .dataframe tbody tr th:only-of-type {\n",
       "        vertical-align: middle;\n",
       "    }\n",
       "\n",
       "    .dataframe tbody tr th {\n",
       "        vertical-align: top;\n",
       "    }\n",
       "\n",
       "    .dataframe thead th {\n",
       "        text-align: right;\n",
       "    }\n",
       "</style>\n",
       "<table border=\"1\" class=\"dataframe\">\n",
       "  <thead>\n",
       "    <tr style=\"text-align: right;\">\n",
       "      <th></th>\n",
       "      <th>output</th>\n",
       "    </tr>\n",
       "    <tr>\n",
       "      <th>index</th>\n",
       "      <th></th>\n",
       "    </tr>\n",
       "  </thead>\n",
       "  <tbody>\n",
       "    <tr>\n",
       "      <th>0</th>\n",
       "      <td>0</td>\n",
       "    </tr>\n",
       "    <tr>\n",
       "      <th>1</th>\n",
       "      <td>0</td>\n",
       "    </tr>\n",
       "    <tr>\n",
       "      <th>2</th>\n",
       "      <td>0</td>\n",
       "    </tr>\n",
       "    <tr>\n",
       "      <th>3</th>\n",
       "      <td>0</td>\n",
       "    </tr>\n",
       "    <tr>\n",
       "      <th>4</th>\n",
       "      <td>1</td>\n",
       "    </tr>\n",
       "    <tr>\n",
       "      <th>...</th>\n",
       "      <td>...</td>\n",
       "    </tr>\n",
       "    <tr>\n",
       "      <th>495</th>\n",
       "      <td>1</td>\n",
       "    </tr>\n",
       "    <tr>\n",
       "      <th>496</th>\n",
       "      <td>0</td>\n",
       "    </tr>\n",
       "    <tr>\n",
       "      <th>497</th>\n",
       "      <td>1</td>\n",
       "    </tr>\n",
       "    <tr>\n",
       "      <th>498</th>\n",
       "      <td>0</td>\n",
       "    </tr>\n",
       "    <tr>\n",
       "      <th>499</th>\n",
       "      <td>0</td>\n",
       "    </tr>\n",
       "  </tbody>\n",
       "</table>\n",
       "<p>500 rows × 1 columns</p>\n",
       "</div>"
      ],
      "text/plain": [
       "       output\n",
       "index        \n",
       "0           0\n",
       "1           0\n",
       "2           0\n",
       "3           0\n",
       "4           1\n",
       "...       ...\n",
       "495         1\n",
       "496         0\n",
       "497         1\n",
       "498         0\n",
       "499         0\n",
       "\n",
       "[500 rows x 1 columns]"
      ]
     },
     "metadata": {},
     "output_type": "display_data"
    }
   ],
   "source": [
    "# Carga de datos\n",
    "X = pd.read_csv(\"X.csv\", index_col=\"index\")\n",
    "y = pd.read_csv(\"y.csv\", index_col=\"index\", dtype=int)  # Cargamos los valores booleanos (True y False)\n",
    "                                                        # como números (1 y 0) para facilitar el manejo luego. \n",
    "    \n",
    "X_competencia = pd.read_csv(\"X_competencia1.csv\", index_col=\"index\")\n",
    "y_competencia_ejemplo = pd.read_csv(\"y_competencia_ejemplo.csv\", index_col=\"index\")\n",
    "display(X)\n",
    "display(y)\n",
    "\n",
    "# Descomentar si quieren ver los datos para la competencia:\n",
    "# display(X_competencia) \n",
    "# display(y_competencia_ejemplo)"
   ]
  },
  {
   "cell_type": "markdown",
   "metadata": {},
   "source": [
    "## Ejercicio 1\n",
    "\n",
    "### Separación de datos\n",
    "\n",
    "Contarán con una cantidad limitada de datos, por lo cual es importante tomar una buena decisión en el momento de empezar a utilizarlos. En este punto pedimos que evalúen cómo separar sus datos para desarrollo y para evaluación tomando en cuenta la competencia. "
   ]
  },
  {
   "cell_type": "code",
   "execution_count": 9,
   "metadata": {},
   "outputs": [
    {
     "name": "stdout",
     "output_type": "stream",
     "text": [
      "X_dev: (250, 200), y_dev: (250, 1) para desarrollo\n",
      "X_eval: (250, 200), y_eval: (250, 1) para evaluación\n"
     ]
    },
    {
     "data": {
      "image/png": "[encoded data removed]",
      "text/plain": [
       "<Figure size 360x216 with 1 Axes>"
      ]
     },
     "metadata": {
      "needs_background": "light"
     },
     "output_type": "display_data"
    },
    {
     "name": "stdout",
     "output_type": "stream",
     "text": [
      "229\n"
     ]
    },
    {
     "data": {
      "image/png": "[encoded data removed]",
      "text/plain": [
       "<Figure size 360x216 with 1 Axes>"
      ]
     },
     "metadata": {
      "needs_background": "light"
     },
     "output_type": "display_data"
    },
    {
     "name": "stdout",
     "output_type": "stream",
     "text": [
      "118\n"
     ]
    }
   ],
   "source": [
    "# EJERCICIO 1. \n",
    "from sklearn.model_selection import KFold\n",
    "\n",
    "np.random.seed(1234)\n",
    "\n",
    "########################################################\n",
    "## AQUI VA SU CODIGO\n",
    "#X_dev, X_eval, y_dev, y_eval = X, X, y, y  # cambiar esta línea si lo consideran necesario\n",
    "\n",
    "X_dev, X_eval, y_dev, y_eval = sklearn.model_selection.train_test_split(\n",
    "    X, y, random_state=1234, test_size=0.5)\n",
    "\n",
    "# Objetivo: variables X_dev, X_eval, y_dev e y_eval asignadas\n",
    "#########################################################\n",
    "\n",
    "\n",
    "print(\"X_dev: {}, y_dev: {} para desarrollo\".format(X_dev.shape, y_dev.shape))\n",
    "print(\"X_eval: {}, y_eval: {} para evaluación\".format(X_eval.shape, y_eval.shape))\n",
    "\n",
    "plt.figure(figsize=(5, 3))\n",
    "plt.hist(np.array(y))  # muestra un histograma para la distribución de y.\n",
    "plt.title('Histograma de clases para todas las instancias')\n",
    "plt.show()\n",
    "print(y['output'].sum()) #229/500 = 46% de todas son true\n",
    "\n",
    "plt.figure(figsize=(5, 3))\n",
    "plt.hist(np.array(y_dev))  # muestra un histograma para la distribución de y.\n",
    "plt.title('Histograma de clases para las instancias de desarrollo')\n",
    "plt.show()\n",
    "print(y_dev['output'].sum()) #118/250 = 47% de las de dev son true"
   ]
  },
  {
   "cell_type": "markdown",
   "metadata": {},
   "source": [
    "### Discusión\n",
    "\n",
    "En principio, la división de las instancias para desarrollo y validación debe ser aleatoria, puesto que para este conjunto de datos las instancias no parecen estar ordenadas bajo algún criterio. Tampoco tenemos información sobre la importancia de los atributos. \n",
    "\n",
    "Tenemos 500 instancias disponibles para hacer esta separación. Teniendo en cuenta la competencia, debemos seleccionar un modelo y estimar su performance sobre las instancias _para la competencia_. Estas son 5000 en total, una cantidad bastante mayor al máximo que podríamos destinar para entrenamiento. Teniendo en cuenta este desbalance, consideramos que para poder obtener un estimado realista al utilizar las instancias _held out_, la cantidad de instancias destinadas para este fin debe ser igual o mayor a la cantidad utilizadas para entrenamiento. De esta manera, se intentará reflejar este desbalance entre cantidades.\n",
    "\n",
    "No obstante, reservar pocas instancias para entrenamiento acarrea también el riesgo de desarrollar modelos poco predictivos. Por esa razón, decidimos separar las instancias en *dos mitades iguales* para entrenamiento y validación, de forma aleatoria. \n",
    "\n",
    "Observamos también que, sobre el total de las 500 instancias, 229 pertenecen a la clase $1$, un poco menos que la mitad (el $46 \\% $ ). De manera tal de evitar un sesgo en la selección, nos aseguramos que este porcentaje de instancias se refleje también en las reservadas para entrenamiento (resulta del $ 47 \\%$).\n",
    "\n"
   ]
  },
  {
   "cell_type": "markdown",
   "metadata": {},
   "source": [
    "## Ejercicio 2\n",
    "\n",
    "### Construcción de modelos\n",
    "\n",
    "Para este punto, la tarea consiste en construir y evaluar modelos de tipo árbol de decisión, de manera de obtener una estimación realista de la performance de los mismos. \n",
    "\n",
    "1. Entrenar un árbol de decisión con altura máxima 3 y el resto de los hiperparámetros en default. \n",
    "2. Estimar la performance del modelo utilizando K-fold cross validation con K = 5, con las métricas “Accuracy” y “ROC AUC”. Para ello, se pide medir la performance en cada partición tanto sobre el fold de validación como sobre los folds de entrenamiento. Luego, completar la primera tabla.\n",
    "3. Entrenar árboles de decisión para cada una de las siguientes combinaciones y completar la segunda tabla.\n",
    "\n",
    "----\n",
    "\n",
    "**EJERCICIO EXTRA: Usar la implementación de árboles de decisión que realizaron para la guía de ejercicios de la materia. Adaptarla para que cumpla con la interfaz requerida por sklearn, asegurarse de que funcione con variables continuas y reproducir las tablas anteriores.   **\n",
    "\n",
    "----"
   ]
  },
  {
   "cell_type": "code",
   "execution_count": 10,
   "metadata": {
    "scrolled": false
   },
   "outputs": [
    {
     "data": {
      "text/html": [
       "<h3> TABLA 1 </h3>"
      ],
      "text/plain": [
       "<IPython.core.display.HTML object>"
      ]
     },
     "metadata": {},
     "output_type": "display_data"
    },
    {
     "data": {
      "text/html": [
       "<div>\n",
       "<style scoped>\n",
       "    .dataframe tbody tr th:only-of-type {\n",
       "        vertical-align: middle;\n",
       "    }\n",
       "\n",
       "    .dataframe tbody tr th {\n",
       "        vertical-align: top;\n",
       "    }\n",
       "\n",
       "    .dataframe thead th {\n",
       "        text-align: right;\n",
       "    }\n",
       "</style>\n",
       "<table border=\"1\" class=\"dataframe\">\n",
       "  <thead>\n",
       "    <tr style=\"text-align: right;\">\n",
       "      <th></th>\n",
       "      <th>Accuracy (training)</th>\n",
       "      <th>Accuracy (validación)</th>\n",
       "      <th>AUC ROC (training)</th>\n",
       "      <th>AUC ROC (validación)</th>\n",
       "    </tr>\n",
       "    <tr>\n",
       "      <th>Permutación</th>\n",
       "      <th></th>\n",
       "      <th></th>\n",
       "      <th></th>\n",
       "      <th></th>\n",
       "    </tr>\n",
       "  </thead>\n",
       "  <tbody>\n",
       "    <tr>\n",
       "      <th>1</th>\n",
       "      <td>0.900</td>\n",
       "      <td>0.68</td>\n",
       "      <td>0.9026</td>\n",
       "      <td>0.6779</td>\n",
       "    </tr>\n",
       "    <tr>\n",
       "      <th>2</th>\n",
       "      <td>0.900</td>\n",
       "      <td>0.68</td>\n",
       "      <td>0.9006</td>\n",
       "      <td>0.6489</td>\n",
       "    </tr>\n",
       "    <tr>\n",
       "      <th>3</th>\n",
       "      <td>0.880</td>\n",
       "      <td>0.64</td>\n",
       "      <td>0.8814</td>\n",
       "      <td>0.6396</td>\n",
       "    </tr>\n",
       "    <tr>\n",
       "      <th>4</th>\n",
       "      <td>0.875</td>\n",
       "      <td>0.76</td>\n",
       "      <td>0.8763</td>\n",
       "      <td>0.7603</td>\n",
       "    </tr>\n",
       "    <tr>\n",
       "      <th>5</th>\n",
       "      <td>0.875</td>\n",
       "      <td>0.78</td>\n",
       "      <td>0.8698</td>\n",
       "      <td>0.7800</td>\n",
       "    </tr>\n",
       "  </tbody>\n",
       "</table>\n",
       "</div>"
      ],
      "text/plain": [
       "             Accuracy (training)  Accuracy (validación)  AUC ROC (training)  \\\n",
       "Permutación                                                                   \n",
       "1                          0.900                   0.68              0.9026   \n",
       "2                          0.900                   0.68              0.9006   \n",
       "3                          0.880                   0.64              0.8814   \n",
       "4                          0.875                   0.76              0.8763   \n",
       "5                          0.875                   0.78              0.8698   \n",
       "\n",
       "             AUC ROC (validación)  \n",
       "Permutación                        \n",
       "1                          0.6779  \n",
       "2                          0.6489  \n",
       "3                          0.6396  \n",
       "4                          0.7603  \n",
       "5                          0.7800  "
      ]
     },
     "metadata": {},
     "output_type": "display_data"
    },
    {
     "data": {
      "image/png": "[encoded data removed]",
      "text/plain": [
       "<Figure size 432x288 with 1 Axes>"
      ]
     },
     "metadata": {
      "needs_background": "light"
     },
     "output_type": "display_data"
    }
   ],
   "source": [
    "from sklearn.tree import DecisionTreeClassifier\n",
    "\n",
    "accuracies_training = []\n",
    "accuracies_validation = []\n",
    "aucs_training = []\n",
    "aucs_validation = []\n",
    "\n",
    "# Puede serles de utilidad tener a X_dev e y_dev como matrices de numpy directamente:\n",
    "X_dev_np = np.array(X_dev)\n",
    "y_dev_np = np.array(y_dev).ravel()\n",
    "\n",
    "########################################################\n",
    "## AQUI VA SU CODIGO \n",
    "## Objetivo: accuracies_training, accuracies_validation, aucs_training y aucs_validation asignados\n",
    "\n",
    "\n",
    "#kf = KFold(n_splits=5, random_state=1234, shuffle=True)\n",
    "\n",
    "# ya que las instancias no tienen orden aparente (y ya habían sido seleccionadas aleatoriamente al reservar las \n",
    "# de desarollo), no hace falta mezclarlas en el K-fold cross validation\n",
    "\n",
    "kf = KFold(n_splits=5, shuffle=False)\n",
    "\n",
    "for train_index, test_index in kf.split(X_dev):\n",
    "    #print(\"TRAIN:\", train_index, \"TEST:\", test_index)\n",
    "    X_train, X_test = X_dev_np[train_index], X_dev_np[test_index]\n",
    "    y_train, y_test = y_dev_np[train_index], y_dev_np[test_index]\n",
    "    \n",
    "    arbol = DecisionTreeClassifier(max_depth=3)\n",
    "    arbol.fit(X_train, y_train)\n",
    "    \n",
    "    y_pred_test = arbol.predict(X_test)\n",
    "    y_pred_train = arbol.predict(X_train)\n",
    "    \n",
    "    ac_test=sklearn.metrics.accuracy_score(y_test, y_pred_test, normalize=True, sample_weight=None)\n",
    "    ac_train=sklearn.metrics.accuracy_score(y_train, y_pred_train, normalize=True, sample_weight=None)\n",
    "    accuracies_validation.append(ac_test)\n",
    "    accuracies_training.append(ac_train)\n",
    "    \n",
    "    roc_auc_test=sklearn.metrics.roc_auc_score(y_test, y_pred_test, sample_weight=None)\n",
    "    roc_auc_train=sklearn.metrics.roc_auc_score(y_train, y_pred_train, sample_weight=None)\n",
    "    aucs_training.append(roc_auc_train)\n",
    "    aucs_validation.append(roc_auc_test)\n",
    "\n",
    "#########################################################\n",
    "\n",
    "df = pd.DataFrame(index=range(1,6))\n",
    "df.index.name = \"Permutación\"\n",
    "                  \n",
    "df[\"Accuracy (training)\"] = accuracies_training     # cambiar por accuracies_training\n",
    "df[\"Accuracy (validación)\"] = accuracies_validation   # cambiar por accuracies_validation\n",
    "df[\"AUC ROC (training)\"] = aucs_training     # cambiar por aucs_training\n",
    "df[\"AUC ROC (validación)\"] = aucs_validation    # [\"-\"] * 5 cambiar por aucs_validation\n",
    "\n",
    "\n",
    "display(HTML(\"<h3> TABLA 1 </h3>\"))\n",
    "display(df)\n",
    "\n",
    "# Descomentar las siguientes líneas para graficar el resultado\n",
    "df.plot(kind=\"bar\")\n",
    "plt.legend(loc='upper left', bbox_to_anchor=(1.0, 1.0))\n",
    "plt.show()"
   ]
  },
  {
   "cell_type": "code",
   "execution_count": 11,
   "metadata": {},
   "outputs": [
    {
     "data": {
      "text/html": [
       "<h3> TABLA 2 </h3>"
      ],
      "text/plain": [
       "<IPython.core.display.HTML object>"
      ]
     },
     "metadata": {},
     "output_type": "display_data"
    },
    {
     "data": {
      "text/html": [
       "<div>\n",
       "<style scoped>\n",
       "    .dataframe tbody tr th:only-of-type {\n",
       "        vertical-align: middle;\n",
       "    }\n",
       "\n",
       "    .dataframe tbody tr th {\n",
       "        vertical-align: top;\n",
       "    }\n",
       "\n",
       "    .dataframe thead th {\n",
       "        text-align: right;\n",
       "    }\n",
       "</style>\n",
       "<table border=\"1\" class=\"dataframe\">\n",
       "  <thead>\n",
       "    <tr style=\"text-align: right;\">\n",
       "      <th></th>\n",
       "      <th>Altura máxima</th>\n",
       "      <th>Criterio de evaluación de corte</th>\n",
       "      <th>AUC ROC promedio (training)</th>\n",
       "      <th>AUC ROC promedio (validación)</th>\n",
       "    </tr>\n",
       "  </thead>\n",
       "  <tbody>\n",
       "    <tr>\n",
       "      <th>0</th>\n",
       "      <td>3</td>\n",
       "      <td>Gini</td>\n",
       "      <td>0.8861</td>\n",
       "      <td>0.7013</td>\n",
       "    </tr>\n",
       "    <tr>\n",
       "      <th>1</th>\n",
       "      <td>5</td>\n",
       "      <td>Gini</td>\n",
       "      <td>0.9888</td>\n",
       "      <td>0.6818</td>\n",
       "    </tr>\n",
       "    <tr>\n",
       "      <th>2</th>\n",
       "      <td>Inifinito</td>\n",
       "      <td>Gini</td>\n",
       "      <td>1.0000</td>\n",
       "      <td>0.6849</td>\n",
       "    </tr>\n",
       "    <tr>\n",
       "      <th>3</th>\n",
       "      <td>3</td>\n",
       "      <td>Ganancia de Información</td>\n",
       "      <td>0.8794</td>\n",
       "      <td>0.7391</td>\n",
       "    </tr>\n",
       "    <tr>\n",
       "      <th>4</th>\n",
       "      <td>5</td>\n",
       "      <td>Ganancia de Información</td>\n",
       "      <td>0.9824</td>\n",
       "      <td>0.7160</td>\n",
       "    </tr>\n",
       "    <tr>\n",
       "      <th>5</th>\n",
       "      <td>Inifinito</td>\n",
       "      <td>Ganancia de Información</td>\n",
       "      <td>1.0000</td>\n",
       "      <td>0.7163</td>\n",
       "    </tr>\n",
       "  </tbody>\n",
       "</table>\n",
       "</div>"
      ],
      "text/plain": [
       "  Altura máxima Criterio de evaluación de corte  AUC ROC promedio (training)  \\\n",
       "0             3                            Gini                       0.8861   \n",
       "1             5                            Gini                       0.9888   \n",
       "2     Inifinito                            Gini                       1.0000   \n",
       "3             3         Ganancia de Información                       0.8794   \n",
       "4             5         Ganancia de Información                       0.9824   \n",
       "5     Inifinito         Ganancia de Información                       1.0000   \n",
       "\n",
       "   AUC ROC promedio (validación)  \n",
       "0                         0.7013  \n",
       "1                         0.6818  \n",
       "2                         0.6849  \n",
       "3                         0.7391  \n",
       "4                         0.7160  \n",
       "5                         0.7163  "
      ]
     },
     "metadata": {},
     "output_type": "display_data"
    }
   ],
   "source": [
    "resultados_training = []\n",
    "resultados_validation = []\n",
    "\n",
    "########################################################\n",
    "## AQUI VA SU CODIGO \n",
    "## Objetivo: resultados_training y resultados_validation asignadas\n",
    "#\n",
    "## Recomendamos seguir el siguiente esquema:\n",
    "np.random.seed(SEED)\n",
    "for criterio in [\"gini\", \"entropy\"]:\n",
    "     for altura in [3, 5, None]:\n",
    "        \n",
    "        lista_aucs_train = []\n",
    "        lista_aucs_test = []\n",
    "        \n",
    "        for train_index, test_index in kf.split(X_dev):\n",
    "            #print(\"TRAIN:\", train_index, \"TEST:\", test_index)\n",
    "            X_train, X_test = X_dev_np[train_index], X_dev_np[test_index]\n",
    "            y_train, y_test = y_dev_np[train_index], y_dev_np[test_index]\n",
    "\n",
    "            arbol = DecisionTreeClassifier(max_depth=altura, criterion=criterio)\n",
    "            arbol.fit(X_train, y_train)\n",
    "\n",
    "            y_pred_test = arbol.predict(X_test)\n",
    "            y_pred_train = arbol.predict(X_train)\n",
    "\n",
    "            #ac_test=sklearn.metrics.accuracy_score(y_test, y_pred_test, normalize=True, sample_weight=None)\n",
    "            #ac_train=sklearn.metrics.accuracy_score(y_train, y_pred_train, normalize=True, sample_weight=None)\n",
    "            #accuracies_validation.append(ac_test)\n",
    "            #accuracies_training.append(ac_train)  \n",
    "            \n",
    "            #EN EL PDF DICE ACURACY, ACA FIGURA AUC ROC\n",
    "            \n",
    "            roc_auc_test=sklearn.metrics.roc_auc_score(y_test, y_pred_test, sample_weight=None)\n",
    "            roc_auc_train=sklearn.metrics.roc_auc_score(y_train, y_pred_train, sample_weight=None)\n",
    "            lista_aucs_train.append(roc_auc_train)\n",
    "            lista_aucs_test.append(roc_auc_test)\n",
    "                \n",
    "\n",
    "        resultados_training.append( np.mean(lista_aucs_train) )\n",
    "        resultados_validation.append( np.mean(lista_aucs_test) )\n",
    "#########################################################\n",
    "\n",
    "df = pd.DataFrame(index=range(0,6))\n",
    "\n",
    "df[\"Altura máxima\"] = [3, 5, \"Inifinito\"] * 2\n",
    "df[\"Criterio de evaluación de corte\"] = [\"Gini\"] * 3 + [\"Ganancia de Información\"] * 3\n",
    "df[\"AUC ROC promedio (training)\"] = resultados_training # reemplazar por resultados_training\n",
    "df[\"AUC ROC promedio (validación)\"] = resultados_validation # reemplazar por resultados_validation\n",
    "\n",
    "   \n",
    "display(HTML(\"<h3> TABLA 2 </h3>\"))\n",
    "display(df)\n"
   ]
  },
  {
   "cell_type": "markdown",
   "metadata": {},
   "source": [
    "## Punto Extra"
   ]
  },
  {
   "cell_type": "code",
   "execution_count": 21,
   "metadata": {
    "collapsed": true
   },
   "outputs": [],
   "source": [
    "import numpy as np\n",
    "import pandas as pd\n",
    "\n",
    "from collections import Counter\n",
    "from math import log\n",
    "\n",
    "def construir_arbol(instancias, etiquetas, criterion, max_depth):\n",
    "    # ALGORITMO RECURSIVO para construcción de un árbol de decisión binario. \n",
    "    \n",
    "    if max_depth == 0 or len(instancias) <= 2:\n",
    "        return Hoja(etiquetas)\n",
    "    \n",
    "    # Suponemos que estamos parados en la raiz del árbol y tenemos que decidir cómo construirlo. \n",
    "    ganancia, pregunta = encontrar_mejor_atributo_y_corte(instancias, etiquetas, criterion)\n",
    "    \n",
    "    # Criterio de corte: ¿Hay ganancia?\n",
    "    if ganancia == 0:\n",
    "        #  Si no hay ganancia en separar, no separamos. \n",
    "        return Hoja(etiquetas)\n",
    "    else: \n",
    "        # Si hay ganancia en partir el conjunto en 2\n",
    "        instancias_cumplen, etiquetas_cumplen, instancias_no_cumplen, etiquetas_no_cumplen = partir_segun(pregunta, instancias, etiquetas, criterion)\n",
    "        # partir devuelve instancias y etiquetas que caen en cada rama (izquierda y derecha)\n",
    "\n",
    "        new_max_depth = None\n",
    "        if max_depth != None:\n",
    "            new_max_depth = max_depth - 1\n",
    "            \n",
    "        # Paso recursivo (consultar con el computador más cercano)\n",
    "        sub_arbol_izquierdo = construir_arbol(instancias_cumplen, etiquetas_cumplen, criterion, new_max_depth)\n",
    "        sub_arbol_derecho   = construir_arbol(instancias_no_cumplen, etiquetas_no_cumplen, criterion, new_max_depth)\n",
    "        # los pasos anteriores crean todo lo que necesitemos de sub-árbol izquierdo y sub-árbol derecho\n",
    "        \n",
    "        # sólo falta conectarlos con un nodo de decisión:\n",
    "        return Nodo_De_Decision(pregunta, sub_arbol_izquierdo, sub_arbol_derecho)\n",
    "    \n",
    "    \n",
    "# Definición de la estructura del árbol. \n",
    "\n",
    "class Hoja:\n",
    "    #  Contiene las cuentas para cada clase (en forma de diccionario)\n",
    "    #  Por ejemplo, {'Si': 2, 'No': 2}\n",
    "    def __init__(self, etiquetas):\n",
    "        self.cuentas = dict(Counter(etiquetas))\n",
    "\n",
    "\n",
    "class Nodo_De_Decision:\n",
    "    # Un Nodo de Decisión contiene preguntas y una referencia al sub-árbol izquierdo y al sub-árbol derecho\n",
    "     \n",
    "    def __init__(self, pregunta, sub_arbol_izquierdo, sub_arbol_derecho):\n",
    "        self.pregunta = pregunta\n",
    "        self.sub_arbol_izquierdo = sub_arbol_izquierdo\n",
    "        self.sub_arbol_derecho = sub_arbol_derecho\n",
    "        \n",
    "        \n",
    "# Definición de la clase \"Pregunta\"\n",
    "class Pregunta:\n",
    "    def __init__(self, atributo, valor):\n",
    "        self.atributo = atributo\n",
    "        self.valor = valor\n",
    "    \n",
    "    def cumple(self, instancia):\n",
    "        # Devuelve verdadero si la instancia cumple con la pregunta\n",
    "        return instancia[self.atributo] == self.valor\n",
    "    \n",
    "    def __repr__(self):\n",
    "        try:\n",
    "            float(self.valor)\n",
    "            return \"¿Es el valor para {} <= a {}?\".format(self.atributo, self.valor)\n",
    "        except:\n",
    "            return \"¿Es el valor para {} igual a {}?\".format(self.atributo, self.valor)\n",
    "    \n",
    "def gini(etiquetas):\n",
    "    d = dict(Counter(etiquetas))\n",
    "    impureza = 1\n",
    "    for key, value in d.items():\n",
    "        impureza -= (value/len(etiquetas))**2\n",
    "    return impureza\n",
    "\n",
    "def ganancia_gini(instancias, etiquetas_rama_izquierda, etiquetas_rama_derecha):\n",
    "    # COMPLETAR\n",
    "    ganancia_previa = gini(etiquetas_rama_izquierda + etiquetas_rama_derecha)\n",
    "    gini_izq = gini(etiquetas_rama_izquierda)\n",
    "    \n",
    "    proporcion_izq = (len(etiquetas_rama_izquierda)/len(instancias))\n",
    "    proporcion_der = (len(etiquetas_rama_derecha)/len(instancias))\n",
    "    \n",
    "    gini_der = gini(etiquetas_rama_derecha)\n",
    "    ganancia_gini = ganancia_previa - ((gini_izq*proporcion_izq + gini_der*proporcion_der)/2)\n",
    "    return ganancia_gini\n",
    "\n",
    "def entropy(etiquetas):\n",
    "    d = dict(Counter(etiquetas))\n",
    "    entropy = 0\n",
    "    for key, value in d.items():\n",
    "        proportion = value/len(etiquetas)\n",
    "        entropy -= (proportion)*log(proportion, 2)\n",
    "    return entropy\n",
    "\n",
    "def ganancia_entropy(instancias, etiquetas_rama_izquierda, etiquetas_rama_derecha):\n",
    "    \n",
    "    ganancia_previa = entropy(etiquetas_rama_izquierda + etiquetas_rama_derecha)\n",
    "    entropy_izq = gini(etiquetas_rama_izquierda)\n",
    "    \n",
    "    proporcion_izq = (len(etiquetas_rama_izquierda)/len(instancias))\n",
    "    proporcion_der = (len(etiquetas_rama_derecha)/len(instancias))\n",
    "    \n",
    "    entropy_der = gini(etiquetas_rama_derecha)\n",
    "    ganancia_entropia = ganancia_previa - ((entropy_izq*proporcion_izq + entropy_der*proporcion_der)/2)\n",
    "    return ganancia_entropia\n",
    "\n",
    "    \n",
    "def get_ganancia(instancias, etiquetas_rama_izquierda, etiquetas_rama_derecha, criterion):\n",
    "    \n",
    "    if criterion == \"gini\":\n",
    "        return ganancia_gini(instancias, etiquetas_rama_izquierda, etiquetas_rama_derecha)\n",
    "    else:\n",
    "        return ganancia_entropy(instancias, etiquetas_rama_izquierda, etiquetas_rama_derecha)\n",
    "    \n",
    "\n",
    "def partir_segun(pregunta, instancias, etiquetas, criterion):\n",
    "\n",
    "    try:\n",
    "        float(pregunta.valor)\n",
    "        return partir_segun_attr_numerico(pregunta, instancias, etiquetas, criterion)\n",
    "    except:\n",
    "        return partir_segun_attr_discreto(pregunta, instancias, etiquetas, criterion)\n",
    "    \n",
    "def partir_segun_attr_discreto(pregunta, instancias, etiquetas, criterion):\n",
    "    \n",
    "    # Esta función debe separar instancias y etiquetas según si cada instancia cumple o no con la pregunta (ver método 'cumple')\n",
    "    # COMPLETAR (recomendamos utilizar máscaras para este punto)\n",
    "    \n",
    "    instancias_cumplen, etiquetas_cumplen, instancias_no_cumplen, etiquetas_no_cumplen = list(), list(), list(), list()\n",
    "\n",
    "    index = 0\n",
    "    for x, instance in instancias.iterrows():\n",
    "\n",
    "        if instance[pregunta.atributo] == pregunta.valor:\n",
    "            instancias_cumplen.append(instance)\n",
    "            etiquetas_cumplen.append(etiquetas[index])\n",
    "        else:\n",
    "            instancias_no_cumplen.append(instance)\n",
    "            etiquetas_no_cumplen.append(etiquetas[index])\n",
    "        index += 1\n",
    "    return pd.DataFrame(instancias_cumplen), etiquetas_cumplen, pd.DataFrame(instancias_no_cumplen), etiquetas_no_cumplen\n",
    "\n",
    "def partir_segun_attr_numerico(pregunta, instancias, etiquetas, criterion):\n",
    "    \n",
    "    instancias_copy = instancias.copy()\n",
    "    instancias_copy[\"___tmp___\"] = etiquetas\n",
    "    \n",
    "    cut = pregunta.valor\n",
    "    cumplen = instancias_copy[instancias_copy[pregunta.atributo] < cut]\n",
    "    no_cumplen = instancias_copy[instancias_copy[pregunta.atributo] >= cut]\n",
    "    etiquetas_cumplen = list(cumplen[\"___tmp___\"])\n",
    "    etiquetas_no_cumplen = list(no_cumplen[\"___tmp___\"])\n",
    "    del cumplen[\"___tmp___\"]\n",
    "    del no_cumplen[\"___tmp___\"]\n",
    "    \n",
    "    return cumplen, etiquetas_cumplen, no_cumplen, etiquetas_no_cumplen \n",
    "\n",
    "def encontrar_mejor_atributo_y_corte(instancias, etiquetas, criterion):\n",
    "    \n",
    "    max_ganancia = 0\n",
    "    mejor_pregunta = None\n",
    "    for columna in instancias.columns:\n",
    "        \n",
    "        try:\n",
    "            for valor in set(instancias[columna]): #asegurarse que son valores numericos\n",
    "                float(valor)\n",
    "            \n",
    "            instancias_tmp = instancias.copy()\n",
    "            instancias_tmp[\"___tmp___\"] = etiquetas\n",
    "            instancias_tmp.sort_values(columna)\n",
    "            etiquetas_tmp = instancias_tmp[\"___tmp___\"]\n",
    "            del instancias_tmp[\"___tmp___\"]\n",
    "            \n",
    "            if len(instancias_tmp) == 1:\n",
    "                pregunta = Pregunta(columna, 0) #da igual\n",
    "                _, etiquetas_rama_izquierda, _, etiquetas_rama_derecha = partir_segun_attr_numerico(pregunta, instancias_tmp, etiquetas_tmp, criterion)\n",
    "                ganancia = get_ganancia(instancias, etiquetas_rama_izquierda, etiquetas_rama_derecha, criterion)\n",
    "                if ganancia > max_ganancia:\n",
    "                    max_ganancia = ganancia\n",
    "                    mejor_pregunta = pregunta\n",
    "            else:\n",
    "                \n",
    "                instancia_anterior = None\n",
    "                mejor_ganancia_hasta_ahora = 0\n",
    "                for x, una_instancia in instancias_tmp.iterrows():\n",
    "                    if instancia_anterior is None:\n",
    "                        instancia_anterior = una_instancia\n",
    "                    else:\n",
    "                        cut = (instancia_anterior[columna] + una_instancia[columna])/2\n",
    "                        #num_pregunta += 1\n",
    "                        #print(num_pregunta)\n",
    "                        pregunta = Pregunta(columna, cut)\n",
    "                        _, etiquetas_rama_izquierda, _, etiquetas_rama_derecha = partir_segun_attr_numerico(pregunta, instancias_tmp, etiquetas_tmp, criterion)\n",
    "                        ganancia = get_ganancia(instancias, etiquetas_rama_izquierda, etiquetas_rama_derecha, criterion)\n",
    "                        if ganancia > max_ganancia:\n",
    "                            max_ganancia = ganancia\n",
    "                            mejor_pregunta = pregunta\n",
    "                        instancia_anterior = una_instancia\n",
    "        \n",
    "        except:\n",
    "            for valor in set(instancias[columna]):\n",
    "                # Probando corte para atributo y valor\n",
    "                pregunta = Pregunta(columna, valor)\n",
    "                _, etiquetas_rama_izquierda, _, etiquetas_rama_derecha = partir_segun_attr_discreto(pregunta, instancias, etiquetas, criterion)\n",
    "\n",
    "                ganancia = get_ganancia(instancias, etiquetas_rama_izquierda, etiquetas_rama_derecha, criterion)\n",
    "\n",
    "                if ganancia > max_ganancia:\n",
    "                    max_ganancia = ganancia\n",
    "                    mejor_pregunta = pregunta\n",
    "      \n",
    "    return max_ganancia, mejor_pregunta\n",
    "\n",
    "def predecir(arbol, x_t):\n",
    "    \n",
    "    if isinstance(arbol, Hoja):\n",
    "        max = 0\n",
    "        return_value = None\n",
    "        for key,value in arbol.cuentas.items():\n",
    "            if value > max:\n",
    "                return_value = key\n",
    "                max = value\n",
    "        return return_value\n",
    "    \n",
    "    else:\n",
    "        attr = arbol.pregunta.atributo\n",
    "        val = arbol.pregunta.valor\n",
    "        try:\n",
    "            float(val)\n",
    "            if x_t[attr] < val:\n",
    "                return predecir(arbol.sub_arbol_izquierdo, x_t)    \n",
    "            else:\n",
    "                return predecir(arbol.sub_arbol_derecho, x_t)\n",
    "        except:\n",
    "            if(x_t.loc[attr]) == val:\n",
    "                return predecir(arbol.sub_arbol_izquierdo, x_t)\n",
    "            else:\n",
    "                return predecir(arbol.sub_arbol_derecho, x_t)\n",
    "\n",
    "        \n",
    "class CustomDecisionTreeClassifier(): \n",
    "    def __init__(self, criterion = \"gini\", max_depth=None):\n",
    "        self.arbol = None\n",
    "        if criterion != \"gini\" and criterion != \"entropy\":\n",
    "            raise Exception(\"Criterio desconocido\")\n",
    "        \n",
    "        self.criterion = criterion\n",
    "        self.max_depth = max_depth\n",
    "    \n",
    "    def fit(self, X_train, y_train):\n",
    "        self.arbol = construir_arbol(pd.DataFrame(X_train), y_train, criterion=self.criterion, max_depth=self.max_depth)\n",
    "        return self\n",
    "    \n",
    "    def predict(self, X_test):\n",
    "        predictions = []\n",
    "        for x_t in X_test:\n",
    "            x_t_df = pd.DataFrame([x_t]).iloc[0]\n",
    "            prediction = predecir(self.arbol, x_t_df) \n",
    "            predictions.append(prediction)\n",
    "        return predictions\n",
    "    \n",
    "    def score(self, X_test, y_test):\n",
    "        y_pred = self.predict(X_test)\n",
    "        \n",
    "        accuracy = sum(y_i == y_j for (y_i, y_j) in zip(y_pred, y_test)) / len(y_test)\n",
    "        return accuracy\n",
    "        \n",
    "def imprimir_arbol(arbol, spacing=\"\"):\n",
    "    \n",
    "    if isinstance(arbol, MiClasificadorArbol):\n",
    "        imprimir_arbol(arbol.arbol)\n",
    "        return\n",
    "    \n",
    "    if isinstance(arbol, Hoja):\n",
    "        print (spacing + \"Hoja:\", arbol.cuentas)\n",
    "        return\n",
    "\n",
    "    print (spacing + str(arbol.pregunta))\n",
    "\n",
    "    print (spacing + '--> True:')\n",
    "    imprimir_arbol(arbol.sub_arbol_izquierdo, spacing + \"  \")\n",
    "\n",
    "    print (spacing + '--> False:')\n",
    "    imprimir_arbol(arbol.sub_arbol_derecho, spacing + \"  \")\n"
   ]
  },
  {
   "cell_type": "code",
   "execution_count": 22,
   "metadata": {},
   "outputs": [
    {
     "data": {
      "text/html": [
       "<h3> TABLA 1 </h3>"
      ],
      "text/plain": [
       "<IPython.core.display.HTML object>"
      ]
     },
     "metadata": {},
     "output_type": "display_data"
    },
    {
     "data": {
      "text/html": [
       "<div>\n",
       "<style scoped>\n",
       "    .dataframe tbody tr th:only-of-type {\n",
       "        vertical-align: middle;\n",
       "    }\n",
       "\n",
       "    .dataframe tbody tr th {\n",
       "        vertical-align: top;\n",
       "    }\n",
       "\n",
       "    .dataframe thead th {\n",
       "        text-align: right;\n",
       "    }\n",
       "</style>\n",
       "<table border=\"1\" class=\"dataframe\">\n",
       "  <thead>\n",
       "    <tr style=\"text-align: right;\">\n",
       "      <th></th>\n",
       "      <th>Accuracy (training)</th>\n",
       "      <th>Accuracy (validación)</th>\n",
       "      <th>AUC ROC (training)</th>\n",
       "      <th>AUC ROC (validación)</th>\n",
       "    </tr>\n",
       "    <tr>\n",
       "      <th>Permutación</th>\n",
       "      <th></th>\n",
       "      <th></th>\n",
       "      <th></th>\n",
       "      <th></th>\n",
       "    </tr>\n",
       "  </thead>\n",
       "  <tbody>\n",
       "    <tr>\n",
       "      <th>1</th>\n",
       "      <td>0.905</td>\n",
       "      <td>0.70</td>\n",
       "      <td>0.9072</td>\n",
       "      <td>0.7003</td>\n",
       "    </tr>\n",
       "    <tr>\n",
       "      <th>2</th>\n",
       "      <td>0.910</td>\n",
       "      <td>0.70</td>\n",
       "      <td>0.9110</td>\n",
       "      <td>0.6305</td>\n",
       "    </tr>\n",
       "    <tr>\n",
       "      <th>3</th>\n",
       "      <td>0.840</td>\n",
       "      <td>0.70</td>\n",
       "      <td>0.8417</td>\n",
       "      <td>0.6932</td>\n",
       "    </tr>\n",
       "    <tr>\n",
       "      <th>4</th>\n",
       "      <td>0.875</td>\n",
       "      <td>0.74</td>\n",
       "      <td>0.8763</td>\n",
       "      <td>0.7365</td>\n",
       "    </tr>\n",
       "    <tr>\n",
       "      <th>5</th>\n",
       "      <td>0.875</td>\n",
       "      <td>0.64</td>\n",
       "      <td>0.8726</td>\n",
       "      <td>0.6400</td>\n",
       "    </tr>\n",
       "  </tbody>\n",
       "</table>\n",
       "</div>"
      ],
      "text/plain": [
       "             Accuracy (training)  Accuracy (validación)  AUC ROC (training)  \\\n",
       "Permutación                                                                   \n",
       "1                          0.905                   0.70              0.9072   \n",
       "2                          0.910                   0.70              0.9110   \n",
       "3                          0.840                   0.70              0.8417   \n",
       "4                          0.875                   0.74              0.8763   \n",
       "5                          0.875                   0.64              0.8726   \n",
       "\n",
       "             AUC ROC (validación)  \n",
       "Permutación                        \n",
       "1                          0.7003  \n",
       "2                          0.6305  \n",
       "3                          0.6932  \n",
       "4                          0.7365  \n",
       "5                          0.6400  "
      ]
     },
     "metadata": {},
     "output_type": "display_data"
    },
    {
     "data": {
      "image/png": "[encoded data removed]",
      "text/plain": [
       "<Figure size 432x288 with 1 Axes>"
      ]
     },
     "metadata": {
      "needs_background": "light"
     },
     "output_type": "display_data"
    }
   ],
   "source": [
    "\n",
    "accuracies_training = []\n",
    "accuracies_validation = []\n",
    "aucs_training = []\n",
    "aucs_validation = []\n",
    "\n",
    "# Puede serles de utilidad tener a X_dev e y_dev como matrices de numpy directamente:\n",
    "X_dev_np = np.array(X_dev)\n",
    "y_dev_np = np.array(y_dev).ravel()\n",
    "\n",
    "########################################################\n",
    "## AQUI VA SU CODIGO \n",
    "## Objetivo: accuracies_training, accuracies_validation, aucs_training y aucs_validation asignados\n",
    "\n",
    "\n",
    "kf = KFold(n_splits=5, shuffle=False)\n",
    "\n",
    "for train_index, test_index in kf.split(X_dev):\n",
    "    #print(\"TRAIN:\", train_index, \"TEST:\", test_index)\n",
    "    X_train, X_test = X_dev_np[train_index], X_dev_np[test_index]\n",
    "    y_train, y_test = y_dev_np[train_index], y_dev_np[test_index]\n",
    "    \n",
    "    arbol = CustomDecisionTreeClassifier(max_depth=3)\n",
    "    arbol.fit(X_train, y_train)\n",
    "    \n",
    "    y_pred_test = arbol.predict(X_test)\n",
    "    y_pred_train = arbol.predict(X_train)\n",
    "    \n",
    "    ac_test=sklearn.metrics.accuracy_score(y_test, y_pred_test, normalize=True, sample_weight=None)\n",
    "    ac_train=sklearn.metrics.accuracy_score(y_train, y_pred_train, normalize=True, sample_weight=None)\n",
    "    accuracies_validation.append(ac_test)\n",
    "    accuracies_training.append(ac_train)\n",
    "    \n",
    "    roc_auc_test=sklearn.metrics.roc_auc_score(y_test, y_pred_test, sample_weight=None)\n",
    "    roc_auc_train=sklearn.metrics.roc_auc_score(y_train, y_pred_train, sample_weight=None)\n",
    "    aucs_training.append(roc_auc_train)\n",
    "    aucs_validation.append(roc_auc_test)\n",
    "\n",
    "#########################################################\n",
    "\n",
    "df = pd.DataFrame(index=range(1,6))\n",
    "df.index.name = \"Permutación\"\n",
    "                  \n",
    "df[\"Accuracy (training)\"] = accuracies_training     # cambiar por accuracies_training\n",
    "df[\"Accuracy (validación)\"] = accuracies_validation   # cambiar por accuracies_validation\n",
    "df[\"AUC ROC (training)\"] = aucs_training     # cambiar por aucs_training\n",
    "df[\"AUC ROC (validación)\"] = aucs_validation    # [\"-\"] * 5 cambiar por aucs_validation\n",
    "\n",
    "\n",
    "display(HTML(\"<h3> TABLA 1 </h3>\"))\n",
    "display(df)\n",
    "\n",
    "# Descomentar las siguientes líneas para graficar el resultado\n",
    "df.plot(kind=\"bar\")\n",
    "plt.legend(loc='upper left', bbox_to_anchor=(1.0, 1.0))\n",
    "plt.show()"
   ]
  },
  {
   "cell_type": "code",
   "execution_count": 24,
   "metadata": {},
   "outputs": [
    {
     "data": {
      "text/html": [
       "<h3> TABLA 2 </h3>"
      ],
      "text/plain": [
       "<IPython.core.display.HTML object>"
      ]
     },
     "metadata": {},
     "output_type": "display_data"
    },
    {
     "data": {
      "text/html": [
       "<div>\n",
       "<style scoped>\n",
       "    .dataframe tbody tr th:only-of-type {\n",
       "        vertical-align: middle;\n",
       "    }\n",
       "\n",
       "    .dataframe tbody tr th {\n",
       "        vertical-align: top;\n",
       "    }\n",
       "\n",
       "    .dataframe thead th {\n",
       "        text-align: right;\n",
       "    }\n",
       "</style>\n",
       "<table border=\"1\" class=\"dataframe\">\n",
       "  <thead>\n",
       "    <tr style=\"text-align: right;\">\n",
       "      <th></th>\n",
       "      <th>Altura máxima</th>\n",
       "      <th>Criterio de evaluación de corte</th>\n",
       "      <th>AUC ROC promedio (training)</th>\n",
       "      <th>AUC ROC promedio (validación)</th>\n",
       "    </tr>\n",
       "  </thead>\n",
       "  <tbody>\n",
       "    <tr>\n",
       "      <th>0</th>\n",
       "      <td>3</td>\n",
       "      <td>Gini</td>\n",
       "      <td>0.8818</td>\n",
       "      <td>0.6801</td>\n",
       "    </tr>\n",
       "    <tr>\n",
       "      <th>1</th>\n",
       "      <td>5</td>\n",
       "      <td>Gini</td>\n",
       "      <td>0.9789</td>\n",
       "      <td>0.6487</td>\n",
       "    </tr>\n",
       "    <tr>\n",
       "      <th>2</th>\n",
       "      <td>Inifinito</td>\n",
       "      <td>Gini</td>\n",
       "      <td>0.9968</td>\n",
       "      <td>0.6368</td>\n",
       "    </tr>\n",
       "    <tr>\n",
       "      <th>3</th>\n",
       "      <td>3</td>\n",
       "      <td>Ganancia de Información</td>\n",
       "      <td>0.8818</td>\n",
       "      <td>0.6801</td>\n",
       "    </tr>\n",
       "    <tr>\n",
       "      <th>4</th>\n",
       "      <td>5</td>\n",
       "      <td>Ganancia de Información</td>\n",
       "      <td>0.9789</td>\n",
       "      <td>0.6487</td>\n",
       "    </tr>\n",
       "    <tr>\n",
       "      <th>5</th>\n",
       "      <td>Inifinito</td>\n",
       "      <td>Ganancia de Información</td>\n",
       "      <td>0.9968</td>\n",
       "      <td>0.6368</td>\n",
       "    </tr>\n",
       "  </tbody>\n",
       "</table>\n",
       "</div>"
      ],
      "text/plain": [
       "  Altura máxima Criterio de evaluación de corte  AUC ROC promedio (training)  \\\n",
       "0             3                            Gini                       0.8818   \n",
       "1             5                            Gini                       0.9789   \n",
       "2     Inifinito                            Gini                       0.9968   \n",
       "3             3         Ganancia de Información                       0.8818   \n",
       "4             5         Ganancia de Información                       0.9789   \n",
       "5     Inifinito         Ganancia de Información                       0.9968   \n",
       "\n",
       "   AUC ROC promedio (validación)  \n",
       "0                         0.6801  \n",
       "1                         0.6487  \n",
       "2                         0.6368  \n",
       "3                         0.6801  \n",
       "4                         0.6487  \n",
       "5                         0.6368  "
      ]
     },
     "metadata": {},
     "output_type": "display_data"
    }
   ],
   "source": [
    "resultados_training = []\n",
    "resultados_validation = []\n",
    "\n",
    "########################################################\n",
    "## AQUI VA SU CODIGO \n",
    "## Objetivo: resultados_training y resultados_validation asignadas\n",
    "#\n",
    "## Recomendamos seguir el siguiente esquema:\n",
    "np.random.seed(SEED)\n",
    "for criterio in [\"gini\", \"entropy\"]:\n",
    "     for altura in [3, 5, None]:\n",
    "        \n",
    "        lista_aucs_train = []\n",
    "        lista_aucs_test = []\n",
    "        \n",
    "        for train_index, test_index in kf.split(X_dev):\n",
    "            #print(\"TRAIN:\", train_index, \"TEST:\", test_index)\n",
    "            X_train, X_test = X_dev_np[train_index], X_dev_np[test_index]\n",
    "            y_train, y_test = y_dev_np[train_index], y_dev_np[test_index]\n",
    "\n",
    "            arbol = CustomDecisionTreeClassifier(max_depth=altura, criterion=criterio)\n",
    "            arbol.fit(X_train, y_train)\n",
    "\n",
    "            y_pred_test = arbol.predict(X_test)\n",
    "            y_pred_train = arbol.predict(X_train)\n",
    "\n",
    "            #ac_test=sklearn.metrics.accuracy_score(y_test, y_pred_test, normalize=True, sample_weight=None)\n",
    "            #ac_train=sklearn.metrics.accuracy_score(y_train, y_pred_train, normalize=True, sample_weight=None)\n",
    "            #accuracies_validation.append(ac_test)\n",
    "            #accuracies_training.append(ac_train)  \n",
    "            \n",
    "            #EN EL PDF DICE ACURACY, ACA FIGURA AUC ROC\n",
    "            \n",
    "            roc_auc_test=sklearn.metrics.roc_auc_score(y_test, y_pred_test, sample_weight=None)\n",
    "            roc_auc_train=sklearn.metrics.roc_auc_score(y_train, y_pred_train, sample_weight=None)\n",
    "            lista_aucs_train.append(roc_auc_train)\n",
    "            lista_aucs_test.append(roc_auc_test)\n",
    "                \n",
    "\n",
    "        resultados_training.append( np.mean(lista_aucs_train) )\n",
    "        resultados_validation.append( np.mean(lista_aucs_test) )\n",
    "#########################################################\n",
    "\n",
    "df = pd.DataFrame(index=range(0,6))\n",
    "\n",
    "df[\"Altura máxima\"] = [3, 5, \"Inifinito\"] * 2\n",
    "df[\"Criterio de evaluación de corte\"] = [\"Gini\"] * 3 + [\"Ganancia de Información\"] * 3\n",
    "df[\"AUC ROC promedio (training)\"] = resultados_training # reemplazar por resultados_training\n",
    "df[\"AUC ROC promedio (validación)\"] = resultados_validation # reemplazar por resultados_validation\n",
    "\n",
    "   \n",
    "display(HTML(\"<h3> TABLA 2 </h3>\"))\n",
    "display(df)"
   ]
  },
  {
   "cell_type": "markdown",
   "metadata": {},
   "source": [
    "## Ejercicio 3: Comparación de algoritmos\n",
    "\n",
    "\n",
    "Se pide explorar distintas combinaciones de algoritmos de aprendizaje e hiperparámetros, de manera de buscar una performance óptima. Para este ejercicio es necesario que evalúen posibilidades utilizando la técnica de Grid Search. Como métrica de performance, usar siempre el área bajo la curva (AUC ROC) resultante de 5-fold cross-validation. \n",
    "\n",
    "Algoritmos a probar: KNN, árboles de decisión, LDA, Naive Bayes y SVM. Hiperparámetros: Revisar la documentación de cada uno para la búsqueda de combinaciones prometedoras.  \n",
    "\n",
    "Se pide generar un reporte que contenga: \n",
    "\n",
    "1. Una descripción de las distintas combinaciones consideradas y su performance asociada (las que consideren relevantes, con al menos la mejor combinación para cada algoritmo). \n",
    "\n",
    "1. Una breve explicación de los factores que creen que produjeron dicho resultado. \n",
    "\n",
    "En este punto evaluaremos tanto los hiperparámetros elegidos como las conclusiones relacionadas a por qué piensan que ciertos algoritmos funcionan mejor que otros para estos datos. \n",
    "\n",
    "\n",
    "\n",
    "----\n",
    "\n",
    "**EJERCICIO EXTRA**: Utilizar RandomizedSearchCV con rangos de parámetros que contengan a los utilizados en el GridSearch. Analizar si se encontraron mejores combinaciones de parámetros que no hayan sido tenidas en cuenta con el GridSearch y cuál fue la diferencia de tiempo de ejecución. \n",
    "\n",
    "----"
   ]
  },
  {
   "cell_type": "code",
   "execution_count": 44,
   "metadata": {
    "collapsed": true
   },
   "outputs": [],
   "source": [
    "from sklearn.neighbors import KNeighborsClassifier\n",
    "from sklearn.discriminant_analysis import LinearDiscriminantAnalysis\n",
    "from sklearn.tree import DecisionTreeClassifier\n",
    "from sklearn.naive_bayes import GaussianNB\n",
    "from sklearn.svm import LinearSVC\n",
    "\n",
    "from sklearn.model_selection import GridSearchCV\n",
    "\n",
    "def top_resultados(grid, top=5):\n",
    "    ## Si quieren, pueden utilizar esta función para imprimir las mejores combinaciones de su grid\n",
    "    print(\"Top {} combinaciones\".format(top))\n",
    "    df = pd.DataFrame(grid.cv_results_[\"params\"])\n",
    "    df[\"mean_score_validation\"] = grid.cv_results_[\"mean_test_score\"]\n",
    "    df[\"mean_score_training\"] = grid.cv_results_[\"mean_train_score\"]\n",
    "    display(df.sort_values(by=\"mean_score_validation\", ascending=False).head(top))\n",
    "\n",
    "########################################################\n",
    "## AQUI VA SU CODIGO \n",
    "## Objetivo: comparar y explorar distintas combinaciones de parámetros para los algoritmos importados arriba\n",
    "\n",
    "X_eval_np = np.array(X_eval)\n",
    "y_eval_np = np.array(y_eval).ravel()\n",
    "X_dev_np = np.array(X_dev)\n",
    "y_dev_np = np.array(y_dev).ravel()\n",
    "\n",
    "X_train=X_dev_np\n",
    "X_test=X_eval_np\n",
    "y_train=y_dev_np\n",
    "y_test=y_eval_np\n",
    "\n",
    "########################################################"
   ]
  },
  {
   "cell_type": "markdown",
   "metadata": {},
   "source": [
    "Definimos un wrapper a ```GridSearchCV``` para conveniencia"
   ]
  },
  {
   "cell_type": "code",
   "execution_count": 8,
   "metadata": {
    "collapsed": true,
    "scrolled": true
   },
   "outputs": [],
   "source": [
    "from sklearn.metrics import classification_report\n",
    "\n",
    "def GridSearch(model, tuned_parameters):\n",
    "    scores = ['roc_auc']\n",
    "\n",
    "    for score in scores:\n",
    "        print(\"# Tuning hyper-parameters for %s\" % score)\n",
    "        print()\n",
    "\n",
    "        clf = GridSearchCV(model, tuned_parameters, cv=5,\n",
    "                           scoring='%s' % score)\n",
    "        clf.fit(X_train, y_train)\n",
    "\n",
    "        print(\"Best parameters set found on development set:\")\n",
    "        print()\n",
    "        print(clf.best_params_)\n",
    "        print()\n",
    "        print(\"Grid scores on development set:\")\n",
    "        print()\n",
    "        means = clf.cv_results_['mean_test_score']\n",
    "        stds = clf.cv_results_['std_test_score']\n",
    "        for mean, std, params in zip(means, stds, clf.cv_results_['params']):\n",
    "            print(\"%0.3f (+/-%0.03f) for %r\"\n",
    "                  % (mean, std * 2, params))\n",
    "        print()\n",
    "\n",
    "        #print(\"Detailed classification report:\")\n",
    "        #print()\n",
    "        #print(\"The model is trained on the full development set.\")\n",
    "        #print(\"The scores are computed on the full evaluation set.\")\n",
    "        #print()\n",
    "        #y_true, y_pred = y_test, clf.predict(X_test)\n",
    "        #print(classification_report(y_true, y_pred))\n",
    "        #print()\n",
    "    "
   ]
  },
  {
   "cell_type": "markdown",
   "metadata": {},
   "source": [
    "### Ejecutamos efectivamente la grid search\n",
    "### KNN"
   ]
  },
  {
   "cell_type": "code",
   "execution_count": 9,
   "metadata": {},
   "outputs": [
    {
     "name": "stdout",
     "output_type": "stream",
     "text": [
      "# Tuning hyper-parameters for roc_auc\n",
      "\n",
      "Best parameters set found on development set:\n",
      "\n",
      "{'p': 1, 'n_neighbors': 51, 'weights': 'distance'}\n",
      "\n",
      "Grid scores on development set:\n",
      "\n",
      "0.707 (+/-0.153) for {'p': 1, 'n_neighbors': 1, 'weights': 'uniform'}\n",
      "0.707 (+/-0.153) for {'p': 1, 'n_neighbors': 1, 'weights': 'distance'}\n",
      "0.708 (+/-0.070) for {'p': 2, 'n_neighbors': 1, 'weights': 'uniform'}\n",
      "0.708 (+/-0.070) for {'p': 2, 'n_neighbors': 1, 'weights': 'distance'}\n",
      "0.866 (+/-0.081) for {'p': 1, 'n_neighbors': 11, 'weights': 'uniform'}\n",
      "0.871 (+/-0.086) for {'p': 1, 'n_neighbors': 11, 'weights': 'distance'}\n",
      "0.867 (+/-0.098) for {'p': 2, 'n_neighbors': 11, 'weights': 'uniform'}\n",
      "0.872 (+/-0.098) for {'p': 2, 'n_neighbors': 11, 'weights': 'distance'}\n",
      "0.874 (+/-0.106) for {'p': 1, 'n_neighbors': 21, 'weights': 'uniform'}\n",
      "0.876 (+/-0.108) for {'p': 1, 'n_neighbors': 21, 'weights': 'distance'}\n",
      "0.878 (+/-0.113) for {'p': 2, 'n_neighbors': 21, 'weights': 'uniform'}\n",
      "0.880 (+/-0.110) for {'p': 2, 'n_neighbors': 21, 'weights': 'distance'}\n",
      "0.876 (+/-0.108) for {'p': 1, 'n_neighbors': 31, 'weights': 'uniform'}\n",
      "0.878 (+/-0.109) for {'p': 1, 'n_neighbors': 31, 'weights': 'distance'}\n",
      "0.877 (+/-0.098) for {'p': 2, 'n_neighbors': 31, 'weights': 'uniform'}\n",
      "0.880 (+/-0.096) for {'p': 2, 'n_neighbors': 31, 'weights': 'distance'}\n",
      "0.875 (+/-0.111) for {'p': 1, 'n_neighbors': 41, 'weights': 'uniform'}\n",
      "0.878 (+/-0.108) for {'p': 1, 'n_neighbors': 41, 'weights': 'distance'}\n",
      "0.879 (+/-0.136) for {'p': 2, 'n_neighbors': 41, 'weights': 'uniform'}\n",
      "0.881 (+/-0.132) for {'p': 2, 'n_neighbors': 41, 'weights': 'distance'}\n",
      "0.884 (+/-0.123) for {'p': 1, 'n_neighbors': 51, 'weights': 'uniform'}\n",
      "0.885 (+/-0.121) for {'p': 1, 'n_neighbors': 51, 'weights': 'distance'}\n",
      "0.871 (+/-0.134) for {'p': 2, 'n_neighbors': 51, 'weights': 'uniform'}\n",
      "0.875 (+/-0.134) for {'p': 2, 'n_neighbors': 51, 'weights': 'distance'}\n",
      "0.877 (+/-0.125) for {'p': 1, 'n_neighbors': 61, 'weights': 'uniform'}\n",
      "0.880 (+/-0.122) for {'p': 1, 'n_neighbors': 61, 'weights': 'distance'}\n",
      "0.876 (+/-0.119) for {'p': 2, 'n_neighbors': 61, 'weights': 'uniform'}\n",
      "0.877 (+/-0.118) for {'p': 2, 'n_neighbors': 61, 'weights': 'distance'}\n",
      "0.874 (+/-0.129) for {'p': 1, 'n_neighbors': 71, 'weights': 'uniform'}\n",
      "0.876 (+/-0.129) for {'p': 1, 'n_neighbors': 71, 'weights': 'distance'}\n",
      "0.870 (+/-0.122) for {'p': 2, 'n_neighbors': 71, 'weights': 'uniform'}\n",
      "0.874 (+/-0.123) for {'p': 2, 'n_neighbors': 71, 'weights': 'distance'}\n",
      "0.874 (+/-0.119) for {'p': 1, 'n_neighbors': 81, 'weights': 'uniform'}\n",
      "0.875 (+/-0.117) for {'p': 1, 'n_neighbors': 81, 'weights': 'distance'}\n",
      "0.868 (+/-0.130) for {'p': 2, 'n_neighbors': 81, 'weights': 'uniform'}\n",
      "0.872 (+/-0.131) for {'p': 2, 'n_neighbors': 81, 'weights': 'distance'}\n",
      "0.867 (+/-0.125) for {'p': 1, 'n_neighbors': 91, 'weights': 'uniform'}\n",
      "0.868 (+/-0.120) for {'p': 1, 'n_neighbors': 91, 'weights': 'distance'}\n",
      "0.865 (+/-0.126) for {'p': 2, 'n_neighbors': 91, 'weights': 'uniform'}\n",
      "0.867 (+/-0.127) for {'p': 2, 'n_neighbors': 91, 'weights': 'distance'}\n",
      "0.865 (+/-0.126) for {'p': 1, 'n_neighbors': 101, 'weights': 'uniform'}\n",
      "0.866 (+/-0.126) for {'p': 1, 'n_neighbors': 101, 'weights': 'distance'}\n",
      "0.865 (+/-0.129) for {'p': 2, 'n_neighbors': 101, 'weights': 'uniform'}\n",
      "0.868 (+/-0.132) for {'p': 2, 'n_neighbors': 101, 'weights': 'distance'}\n",
      "0.866 (+/-0.127) for {'p': 1, 'n_neighbors': 111, 'weights': 'uniform'}\n",
      "0.866 (+/-0.127) for {'p': 1, 'n_neighbors': 111, 'weights': 'distance'}\n",
      "0.862 (+/-0.132) for {'p': 2, 'n_neighbors': 111, 'weights': 'uniform'}\n",
      "0.866 (+/-0.134) for {'p': 2, 'n_neighbors': 111, 'weights': 'distance'}\n",
      "0.868 (+/-0.136) for {'p': 1, 'n_neighbors': 121, 'weights': 'uniform'}\n",
      "0.868 (+/-0.137) for {'p': 1, 'n_neighbors': 121, 'weights': 'distance'}\n",
      "0.862 (+/-0.138) for {'p': 2, 'n_neighbors': 121, 'weights': 'uniform'}\n",
      "0.865 (+/-0.133) for {'p': 2, 'n_neighbors': 121, 'weights': 'distance'}\n",
      "\n",
      "CPU times: user 10 s, sys: 484 ms, total: 10.5 s\n",
      "Wall time: 10.5 s\n"
     ]
    },
    {
     "name": "stderr",
     "output_type": "stream",
     "text": [
      "/usr/local/lib/python3.4/dist-packages/sklearn/model_selection/_search.py:841: DeprecationWarning: The default of the `iid` parameter will change from True to False in version 0.22 and will be removed in 0.24. This will change numeric results when test-set sizes are unequal.\n",
      "  DeprecationWarning)\n"
     ]
    }
   ],
   "source": [
    "tuned_parameters = [{'n_neighbors':range(1, len(X_test)//2, 10), 'weights':[\"uniform\", \"distance\"], 'p':range(1, 3)}]\n",
    "%time GridSearch(KNeighborsClassifier(), tuned_parameters)"
   ]
  },
  {
   "cell_type": "markdown",
   "metadata": {},
   "source": [
    "### Árboles de decisión"
   ]
  },
  {
   "cell_type": "code",
   "execution_count": 10,
   "metadata": {
    "scrolled": false
   },
   "outputs": [
    {
     "name": "stdout",
     "output_type": "stream",
     "text": [
      "# Tuning hyper-parameters for roc_auc\n",
      "\n",
      "Best parameters set found on development set:\n",
      "\n",
      "{'max_depth': 2, 'criterion': 'entropy'}\n",
      "\n",
      "Grid scores on development set:\n",
      "\n",
      "0.702 (+/-0.087) for {'max_depth': 1, 'criterion': 'gini'}\n",
      "0.753 (+/-0.145) for {'max_depth': 2, 'criterion': 'gini'}\n",
      "0.736 (+/-0.204) for {'max_depth': 3, 'criterion': 'gini'}\n",
      "0.644 (+/-0.116) for {'max_depth': 4, 'criterion': 'gini'}\n",
      "0.654 (+/-0.124) for {'max_depth': 5, 'criterion': 'gini'}\n",
      "0.692 (+/-0.120) for {'max_depth': 1, 'criterion': 'entropy'}\n",
      "0.765 (+/-0.096) for {'max_depth': 2, 'criterion': 'entropy'}\n",
      "0.741 (+/-0.096) for {'max_depth': 3, 'criterion': 'entropy'}\n",
      "0.722 (+/-0.121) for {'max_depth': 4, 'criterion': 'entropy'}\n",
      "0.726 (+/-0.104) for {'max_depth': 5, 'criterion': 'entropy'}\n",
      "\n",
      "CPU times: user 1.69 s, sys: 12 ms, total: 1.7 s\n",
      "Wall time: 1.71 s\n"
     ]
    },
    {
     "name": "stderr",
     "output_type": "stream",
     "text": [
      "/usr/local/lib/python3.4/dist-packages/sklearn/model_selection/_search.py:841: DeprecationWarning: The default of the `iid` parameter will change from True to False in version 0.22 and will be removed in 0.24. This will change numeric results when test-set sizes are unequal.\n",
      "  DeprecationWarning)\n"
     ]
    }
   ],
   "source": [
    "tuned_parameters = [{'max_depth':range(1,6) , 'criterion': [\"gini\", \"entropy\"]}]\n",
    "%time GridSearch(DecisionTreeClassifier(), tuned_parameters)"
   ]
  },
  {
   "cell_type": "markdown",
   "metadata": {},
   "source": [
    "### LDA"
   ]
  },
  {
   "cell_type": "code",
   "execution_count": 11,
   "metadata": {},
   "outputs": [
    {
     "name": "stdout",
     "output_type": "stream",
     "text": [
      "# Tuning hyper-parameters for roc_auc\n",
      "\n"
     ]
    },
    {
     "name": "stderr",
     "output_type": "stream",
     "text": [
      "/usr/local/lib/python3.4/dist-packages/sklearn/discriminant_analysis.py:388: UserWarning: Variables are collinear.\n",
      "  warnings.warn(\"Variables are collinear.\")\n",
      "/usr/local/lib/python3.4/dist-packages/sklearn/discriminant_analysis.py:388: UserWarning: Variables are collinear.\n",
      "  warnings.warn(\"Variables are collinear.\")\n",
      "/usr/local/lib/python3.4/dist-packages/sklearn/discriminant_analysis.py:388: UserWarning: Variables are collinear.\n",
      "  warnings.warn(\"Variables are collinear.\")\n",
      "/usr/local/lib/python3.4/dist-packages/sklearn/discriminant_analysis.py:388: UserWarning: Variables are collinear.\n",
      "  warnings.warn(\"Variables are collinear.\")\n",
      "/usr/local/lib/python3.4/dist-packages/sklearn/discriminant_analysis.py:388: UserWarning: Variables are collinear.\n",
      "  warnings.warn(\"Variables are collinear.\")\n",
      "/usr/local/lib/python3.4/dist-packages/sklearn/model_selection/_search.py:841: DeprecationWarning: The default of the `iid` parameter will change from True to False in version 0.22 and will be removed in 0.24. This will change numeric results when test-set sizes are unequal.\n",
      "  DeprecationWarning)\n",
      "/usr/local/lib/python3.4/dist-packages/sklearn/discriminant_analysis.py:388: UserWarning: Variables are collinear.\n",
      "  warnings.warn(\"Variables are collinear.\")\n"
     ]
    },
    {
     "name": "stdout",
     "output_type": "stream",
     "text": [
      "Best parameters set found on development set:\n",
      "\n",
      "{'shrinkage': 'auto', 'solver': 'lsqr'}\n",
      "\n",
      "Grid scores on development set:\n",
      "\n",
      "0.538 (+/-0.070) for {'solver': 'svd'}\n",
      "0.465 (+/-0.198) for {'shrinkage': None, 'solver': 'lsqr'}\n",
      "0.875 (+/-0.107) for {'shrinkage': 'auto', 'solver': 'lsqr'}\n",
      "\n",
      "# Tuning hyper-parameters for roc_auc\n",
      "\n"
     ]
    },
    {
     "name": "stderr",
     "output_type": "stream",
     "text": [
      "/usr/local/lib/python3.4/dist-packages/sklearn/discriminant_analysis.py:388: UserWarning: Variables are collinear.\n",
      "  warnings.warn(\"Variables are collinear.\")\n",
      "/usr/local/lib/python3.4/dist-packages/sklearn/discriminant_analysis.py:388: UserWarning: Variables are collinear.\n",
      "  warnings.warn(\"Variables are collinear.\")\n",
      "/usr/local/lib/python3.4/dist-packages/sklearn/discriminant_analysis.py:388: UserWarning: Variables are collinear.\n",
      "  warnings.warn(\"Variables are collinear.\")\n",
      "/usr/local/lib/python3.4/dist-packages/sklearn/discriminant_analysis.py:388: UserWarning: Variables are collinear.\n",
      "  warnings.warn(\"Variables are collinear.\")\n",
      "/usr/local/lib/python3.4/dist-packages/sklearn/model_selection/_search.py:841: DeprecationWarning: The default of the `iid` parameter will change from True to False in version 0.22 and will be removed in 0.24. This will change numeric results when test-set sizes are unequal.\n",
      "  DeprecationWarning)\n",
      "/usr/local/lib/python3.4/dist-packages/sklearn/discriminant_analysis.py:388: UserWarning: Variables are collinear.\n",
      "  warnings.warn(\"Variables are collinear.\")\n"
     ]
    },
    {
     "name": "stdout",
     "output_type": "stream",
     "text": [
      "Best parameters set found on development set:\n",
      "\n",
      "{'shrinkage': 'auto', 'solver': 'lsqr'}\n",
      "\n",
      "Grid scores on development set:\n",
      "\n",
      "0.538 (+/-0.070) for {'solver': 'svd'}\n",
      "0.465 (+/-0.198) for {'shrinkage': None, 'solver': 'lsqr'}\n",
      "0.875 (+/-0.107) for {'shrinkage': 'auto', 'solver': 'lsqr'}\n",
      "\n",
      "# Tuning hyper-parameters for roc_auc\n",
      "\n"
     ]
    },
    {
     "name": "stderr",
     "output_type": "stream",
     "text": [
      "/usr/local/lib/python3.4/dist-packages/sklearn/discriminant_analysis.py:388: UserWarning: Variables are collinear.\n",
      "  warnings.warn(\"Variables are collinear.\")\n",
      "/usr/local/lib/python3.4/dist-packages/sklearn/discriminant_analysis.py:388: UserWarning: Variables are collinear.\n",
      "  warnings.warn(\"Variables are collinear.\")\n",
      "/usr/local/lib/python3.4/dist-packages/sklearn/discriminant_analysis.py:388: UserWarning: Variables are collinear.\n",
      "  warnings.warn(\"Variables are collinear.\")\n",
      "/usr/local/lib/python3.4/dist-packages/sklearn/discriminant_analysis.py:388: UserWarning: Variables are collinear.\n",
      "  warnings.warn(\"Variables are collinear.\")\n",
      "/usr/local/lib/python3.4/dist-packages/sklearn/model_selection/_search.py:841: DeprecationWarning: The default of the `iid` parameter will change from True to False in version 0.22 and will be removed in 0.24. This will change numeric results when test-set sizes are unequal.\n",
      "  DeprecationWarning)\n",
      "/usr/local/lib/python3.4/dist-packages/sklearn/discriminant_analysis.py:388: UserWarning: Variables are collinear.\n",
      "  warnings.warn(\"Variables are collinear.\")\n"
     ]
    },
    {
     "name": "stdout",
     "output_type": "stream",
     "text": [
      "Best parameters set found on development set:\n",
      "\n",
      "{'shrinkage': 'auto', 'solver': 'lsqr'}\n",
      "\n",
      "Grid scores on development set:\n",
      "\n",
      "0.538 (+/-0.070) for {'solver': 'svd'}\n",
      "0.465 (+/-0.198) for {'shrinkage': None, 'solver': 'lsqr'}\n",
      "0.875 (+/-0.107) for {'shrinkage': 'auto', 'solver': 'lsqr'}\n",
      "\n",
      "# Tuning hyper-parameters for roc_auc\n",
      "\n"
     ]
    },
    {
     "name": "stderr",
     "output_type": "stream",
     "text": [
      "/usr/local/lib/python3.4/dist-packages/sklearn/discriminant_analysis.py:388: UserWarning: Variables are collinear.\n",
      "  warnings.warn(\"Variables are collinear.\")\n",
      "/usr/local/lib/python3.4/dist-packages/sklearn/discriminant_analysis.py:388: UserWarning: Variables are collinear.\n",
      "  warnings.warn(\"Variables are collinear.\")\n",
      "/usr/local/lib/python3.4/dist-packages/sklearn/discriminant_analysis.py:388: UserWarning: Variables are collinear.\n",
      "  warnings.warn(\"Variables are collinear.\")\n",
      "/usr/local/lib/python3.4/dist-packages/sklearn/discriminant_analysis.py:388: UserWarning: Variables are collinear.\n",
      "  warnings.warn(\"Variables are collinear.\")\n",
      "/usr/local/lib/python3.4/dist-packages/sklearn/model_selection/_search.py:841: DeprecationWarning: The default of the `iid` parameter will change from True to False in version 0.22 and will be removed in 0.24. This will change numeric results when test-set sizes are unequal.\n",
      "  DeprecationWarning)\n",
      "/usr/local/lib/python3.4/dist-packages/sklearn/discriminant_analysis.py:388: UserWarning: Variables are collinear.\n",
      "  warnings.warn(\"Variables are collinear.\")\n",
      "/usr/local/lib/python3.4/dist-packages/sklearn/discriminant_analysis.py:388: UserWarning: Variables are collinear.\n",
      "  warnings.warn(\"Variables are collinear.\")\n"
     ]
    },
    {
     "name": "stdout",
     "output_type": "stream",
     "text": [
      "Best parameters set found on development set:\n",
      "\n",
      "{'shrinkage': 'auto', 'solver': 'lsqr'}\n",
      "\n",
      "Grid scores on development set:\n",
      "\n",
      "0.538 (+/-0.070) for {'solver': 'svd'}\n",
      "0.465 (+/-0.198) for {'shrinkage': None, 'solver': 'lsqr'}\n",
      "0.875 (+/-0.107) for {'shrinkage': 'auto', 'solver': 'lsqr'}\n",
      "\n",
      "# Tuning hyper-parameters for roc_auc\n",
      "\n"
     ]
    },
    {
     "name": "stderr",
     "output_type": "stream",
     "text": [
      "/usr/local/lib/python3.4/dist-packages/sklearn/discriminant_analysis.py:388: UserWarning: Variables are collinear.\n",
      "  warnings.warn(\"Variables are collinear.\")\n",
      "/usr/local/lib/python3.4/dist-packages/sklearn/discriminant_analysis.py:388: UserWarning: Variables are collinear.\n",
      "  warnings.warn(\"Variables are collinear.\")\n",
      "/usr/local/lib/python3.4/dist-packages/sklearn/discriminant_analysis.py:388: UserWarning: Variables are collinear.\n",
      "  warnings.warn(\"Variables are collinear.\")\n",
      "/usr/local/lib/python3.4/dist-packages/sklearn/model_selection/_search.py:841: DeprecationWarning: The default of the `iid` parameter will change from True to False in version 0.22 and will be removed in 0.24. This will change numeric results when test-set sizes are unequal.\n",
      "  DeprecationWarning)\n"
     ]
    },
    {
     "name": "stdout",
     "output_type": "stream",
     "text": [
      "Best parameters set found on development set:\n",
      "\n",
      "{'shrinkage': 'auto', 'solver': 'lsqr'}\n",
      "\n",
      "Grid scores on development set:\n",
      "\n",
      "0.538 (+/-0.070) for {'solver': 'svd'}\n",
      "0.465 (+/-0.198) for {'shrinkage': None, 'solver': 'lsqr'}\n",
      "0.875 (+/-0.107) for {'shrinkage': 'auto', 'solver': 'lsqr'}\n",
      "\n",
      "# Tuning hyper-parameters for roc_auc\n",
      "\n"
     ]
    },
    {
     "name": "stderr",
     "output_type": "stream",
     "text": [
      "/usr/local/lib/python3.4/dist-packages/sklearn/discriminant_analysis.py:388: UserWarning: Variables are collinear.\n",
      "  warnings.warn(\"Variables are collinear.\")\n",
      "/usr/local/lib/python3.4/dist-packages/sklearn/discriminant_analysis.py:388: UserWarning: Variables are collinear.\n",
      "  warnings.warn(\"Variables are collinear.\")\n",
      "/usr/local/lib/python3.4/dist-packages/sklearn/discriminant_analysis.py:388: UserWarning: Variables are collinear.\n",
      "  warnings.warn(\"Variables are collinear.\")\n",
      "/usr/local/lib/python3.4/dist-packages/sklearn/discriminant_analysis.py:388: UserWarning: Variables are collinear.\n",
      "  warnings.warn(\"Variables are collinear.\")\n",
      "/usr/local/lib/python3.4/dist-packages/sklearn/discriminant_analysis.py:388: UserWarning: Variables are collinear.\n",
      "  warnings.warn(\"Variables are collinear.\")\n",
      "/usr/local/lib/python3.4/dist-packages/sklearn/model_selection/_search.py:841: DeprecationWarning: The default of the `iid` parameter will change from True to False in version 0.22 and will be removed in 0.24. This will change numeric results when test-set sizes are unequal.\n",
      "  DeprecationWarning)\n"
     ]
    },
    {
     "name": "stdout",
     "output_type": "stream",
     "text": [
      "Best parameters set found on development set:\n",
      "\n",
      "{'shrinkage': 'auto', 'solver': 'lsqr'}\n",
      "\n",
      "Grid scores on development set:\n",
      "\n",
      "0.538 (+/-0.070) for {'solver': 'svd'}\n",
      "0.465 (+/-0.198) for {'shrinkage': None, 'solver': 'lsqr'}\n",
      "0.875 (+/-0.107) for {'shrinkage': 'auto', 'solver': 'lsqr'}\n",
      "\n",
      "# Tuning hyper-parameters for roc_auc\n",
      "\n"
     ]
    },
    {
     "name": "stderr",
     "output_type": "stream",
     "text": [
      "/usr/local/lib/python3.4/dist-packages/sklearn/discriminant_analysis.py:388: UserWarning: Variables are collinear.\n",
      "  warnings.warn(\"Variables are collinear.\")\n",
      "/usr/local/lib/python3.4/dist-packages/sklearn/discriminant_analysis.py:388: UserWarning: Variables are collinear.\n",
      "  warnings.warn(\"Variables are collinear.\")\n",
      "/usr/local/lib/python3.4/dist-packages/sklearn/discriminant_analysis.py:388: UserWarning: Variables are collinear.\n",
      "  warnings.warn(\"Variables are collinear.\")\n",
      "/usr/local/lib/python3.4/dist-packages/sklearn/discriminant_analysis.py:388: UserWarning: Variables are collinear.\n",
      "  warnings.warn(\"Variables are collinear.\")\n",
      "/usr/local/lib/python3.4/dist-packages/sklearn/discriminant_analysis.py:388: UserWarning: Variables are collinear.\n",
      "  warnings.warn(\"Variables are collinear.\")\n",
      "/usr/local/lib/python3.4/dist-packages/sklearn/model_selection/_search.py:841: DeprecationWarning: The default of the `iid` parameter will change from True to False in version 0.22 and will be removed in 0.24. This will change numeric results when test-set sizes are unequal.\n",
      "  DeprecationWarning)\n"
     ]
    },
    {
     "name": "stdout",
     "output_type": "stream",
     "text": [
      "Best parameters set found on development set:\n",
      "\n",
      "{'shrinkage': 'auto', 'solver': 'lsqr'}\n",
      "\n",
      "Grid scores on development set:\n",
      "\n",
      "0.538 (+/-0.070) for {'solver': 'svd'}\n",
      "0.465 (+/-0.198) for {'shrinkage': None, 'solver': 'lsqr'}\n",
      "0.875 (+/-0.107) for {'shrinkage': 'auto', 'solver': 'lsqr'}\n",
      "\n",
      "# Tuning hyper-parameters for roc_auc\n",
      "\n"
     ]
    },
    {
     "name": "stderr",
     "output_type": "stream",
     "text": [
      "/usr/local/lib/python3.4/dist-packages/sklearn/discriminant_analysis.py:388: UserWarning: Variables are collinear.\n",
      "  warnings.warn(\"Variables are collinear.\")\n",
      "/usr/local/lib/python3.4/dist-packages/sklearn/discriminant_analysis.py:388: UserWarning: Variables are collinear.\n",
      "  warnings.warn(\"Variables are collinear.\")\n",
      "/usr/local/lib/python3.4/dist-packages/sklearn/discriminant_analysis.py:388: UserWarning: Variables are collinear.\n",
      "  warnings.warn(\"Variables are collinear.\")\n",
      "/usr/local/lib/python3.4/dist-packages/sklearn/discriminant_analysis.py:388: UserWarning: Variables are collinear.\n",
      "  warnings.warn(\"Variables are collinear.\")\n",
      "/usr/local/lib/python3.4/dist-packages/sklearn/discriminant_analysis.py:388: UserWarning: Variables are collinear.\n",
      "  warnings.warn(\"Variables are collinear.\")\n"
     ]
    },
    {
     "name": "stdout",
     "output_type": "stream",
     "text": [
      "Best parameters set found on development set:\n",
      "\n",
      "{'shrinkage': 'auto', 'solver': 'lsqr'}\n",
      "\n",
      "Grid scores on development set:\n",
      "\n",
      "0.538 (+/-0.070) for {'solver': 'svd'}\n",
      "0.465 (+/-0.198) for {'shrinkage': None, 'solver': 'lsqr'}\n",
      "0.875 (+/-0.107) for {'shrinkage': 'auto', 'solver': 'lsqr'}\n",
      "\n",
      "1.83 s ± 391 ms per loop (mean ± std. dev. of 7 runs, 1 loop each)\n"
     ]
    },
    {
     "name": "stderr",
     "output_type": "stream",
     "text": [
      "/usr/local/lib/python3.4/dist-packages/sklearn/model_selection/_search.py:841: DeprecationWarning: The default of the `iid` parameter will change from True to False in version 0.22 and will be removed in 0.24. This will change numeric results when test-set sizes are unequal.\n",
      "  DeprecationWarning)\n"
     ]
    }
   ],
   "source": [
    "#tuned_parameters = [{'solver':['svd','lsqr']}]\n",
    "#tuned_parameters = [{'solver':['lsqr'],'shrinkage':[None,'auto']}]\n",
    "#param_grid = [{'solver':['svd']},{'solver':['lsqr'],'shrinkage':[None,'auto']}]\n",
    "\n",
    "tuned_parameters= [{'solver':['svd']},{'solver':['lsqr'],'shrinkage':[None,'auto']}]\n",
    "\n",
    "%timeit GridSearch(LinearDiscriminantAnalysis(), tuned_parameters)"
   ]
  },
  {
   "cell_type": "markdown",
   "metadata": {},
   "source": [
    "### Naive Bayes"
   ]
  },
  {
   "cell_type": "code",
   "execution_count": 12,
   "metadata": {},
   "outputs": [
    {
     "name": "stdout",
     "output_type": "stream",
     "text": [
      "# Tuning hyper-parameters for roc_auc\n",
      "\n"
     ]
    },
    {
     "name": "stderr",
     "output_type": "stream",
     "text": [
      "/usr/local/lib/python3.4/dist-packages/sklearn/model_selection/_search.py:841: DeprecationWarning: The default of the `iid` parameter will change from True to False in version 0.22 and will be removed in 0.24. This will change numeric results when test-set sizes are unequal.\n",
      "  DeprecationWarning)\n"
     ]
    },
    {
     "name": "stdout",
     "output_type": "stream",
     "text": [
      "Best parameters set found on development set:\n",
      "\n",
      "{'priors': None}\n",
      "\n",
      "Grid scores on development set:\n",
      "\n",
      "0.865 (+/-0.119) for {'priors': None}\n",
      "0.865 (+/-0.119) for {'priors': [0.1, 0.9]}\n",
      "0.865 (+/-0.119) for {'priors': [0.2, 0.8]}\n",
      "0.865 (+/-0.119) for {'priors': [0.3, 0.7]}\n",
      "0.865 (+/-0.119) for {'priors': [0.4, 0.6]}\n",
      "0.865 (+/-0.119) for {'priors': [0.5, 0.5]}\n",
      "0.865 (+/-0.119) for {'priors': [0.6, 0.4]}\n",
      "0.865 (+/-0.119) for {'priors': [0.7, 0.3]}\n",
      "0.865 (+/-0.119) for {'priors': [0.8, 0.2]}\n",
      "0.865 (+/-0.119) for {'priors': [0.9, 0.1]}\n",
      "\n",
      "# Tuning hyper-parameters for roc_auc\n",
      "\n"
     ]
    },
    {
     "name": "stderr",
     "output_type": "stream",
     "text": [
      "/usr/local/lib/python3.4/dist-packages/sklearn/model_selection/_search.py:841: DeprecationWarning: The default of the `iid` parameter will change from True to False in version 0.22 and will be removed in 0.24. This will change numeric results when test-set sizes are unequal.\n",
      "  DeprecationWarning)\n"
     ]
    },
    {
     "name": "stdout",
     "output_type": "stream",
     "text": [
      "Best parameters set found on development set:\n",
      "\n",
      "{'priors': None}\n",
      "\n",
      "Grid scores on development set:\n",
      "\n",
      "0.865 (+/-0.119) for {'priors': None}\n",
      "0.865 (+/-0.119) for {'priors': [0.1, 0.9]}\n",
      "0.865 (+/-0.119) for {'priors': [0.2, 0.8]}\n",
      "0.865 (+/-0.119) for {'priors': [0.3, 0.7]}\n",
      "0.865 (+/-0.119) for {'priors': [0.4, 0.6]}\n",
      "0.865 (+/-0.119) for {'priors': [0.5, 0.5]}\n",
      "0.865 (+/-0.119) for {'priors': [0.6, 0.4]}\n",
      "0.865 (+/-0.119) for {'priors': [0.7, 0.3]}\n",
      "0.865 (+/-0.119) for {'priors': [0.8, 0.2]}\n",
      "0.865 (+/-0.119) for {'priors': [0.9, 0.1]}\n",
      "\n",
      "# Tuning hyper-parameters for roc_auc\n",
      "\n"
     ]
    },
    {
     "name": "stderr",
     "output_type": "stream",
     "text": [
      "/usr/local/lib/python3.4/dist-packages/sklearn/model_selection/_search.py:841: DeprecationWarning: The default of the `iid` parameter will change from True to False in version 0.22 and will be removed in 0.24. This will change numeric results when test-set sizes are unequal.\n",
      "  DeprecationWarning)\n"
     ]
    },
    {
     "name": "stdout",
     "output_type": "stream",
     "text": [
      "Best parameters set found on development set:\n",
      "\n",
      "{'priors': None}\n",
      "\n",
      "Grid scores on development set:\n",
      "\n",
      "0.865 (+/-0.119) for {'priors': None}\n",
      "0.865 (+/-0.119) for {'priors': [0.1, 0.9]}\n",
      "0.865 (+/-0.119) for {'priors': [0.2, 0.8]}\n",
      "0.865 (+/-0.119) for {'priors': [0.3, 0.7]}\n",
      "0.865 (+/-0.119) for {'priors': [0.4, 0.6]}\n",
      "0.865 (+/-0.119) for {'priors': [0.5, 0.5]}\n",
      "0.865 (+/-0.119) for {'priors': [0.6, 0.4]}\n",
      "0.865 (+/-0.119) for {'priors': [0.7, 0.3]}\n",
      "0.865 (+/-0.119) for {'priors': [0.8, 0.2]}\n",
      "0.865 (+/-0.119) for {'priors': [0.9, 0.1]}\n",
      "\n",
      "# Tuning hyper-parameters for roc_auc\n",
      "\n"
     ]
    },
    {
     "name": "stderr",
     "output_type": "stream",
     "text": [
      "/usr/local/lib/python3.4/dist-packages/sklearn/model_selection/_search.py:841: DeprecationWarning: The default of the `iid` parameter will change from True to False in version 0.22 and will be removed in 0.24. This will change numeric results when test-set sizes are unequal.\n",
      "  DeprecationWarning)\n"
     ]
    },
    {
     "name": "stdout",
     "output_type": "stream",
     "text": [
      "Best parameters set found on development set:\n",
      "\n",
      "{'priors': None}\n",
      "\n",
      "Grid scores on development set:\n",
      "\n",
      "0.865 (+/-0.119) for {'priors': None}\n",
      "0.865 (+/-0.119) for {'priors': [0.1, 0.9]}\n",
      "0.865 (+/-0.119) for {'priors': [0.2, 0.8]}\n",
      "0.865 (+/-0.119) for {'priors': [0.3, 0.7]}\n",
      "0.865 (+/-0.119) for {'priors': [0.4, 0.6]}\n",
      "0.865 (+/-0.119) for {'priors': [0.5, 0.5]}\n",
      "0.865 (+/-0.119) for {'priors': [0.6, 0.4]}\n",
      "0.865 (+/-0.119) for {'priors': [0.7, 0.3]}\n",
      "0.865 (+/-0.119) for {'priors': [0.8, 0.2]}\n",
      "0.865 (+/-0.119) for {'priors': [0.9, 0.1]}\n",
      "\n",
      "# Tuning hyper-parameters for roc_auc\n",
      "\n"
     ]
    },
    {
     "name": "stderr",
     "output_type": "stream",
     "text": [
      "/usr/local/lib/python3.4/dist-packages/sklearn/model_selection/_search.py:841: DeprecationWarning: The default of the `iid` parameter will change from True to False in version 0.22 and will be removed in 0.24. This will change numeric results when test-set sizes are unequal.\n",
      "  DeprecationWarning)\n"
     ]
    },
    {
     "name": "stdout",
     "output_type": "stream",
     "text": [
      "Best parameters set found on development set:\n",
      "\n",
      "{'priors': None}\n",
      "\n",
      "Grid scores on development set:\n",
      "\n",
      "0.865 (+/-0.119) for {'priors': None}\n",
      "0.865 (+/-0.119) for {'priors': [0.1, 0.9]}\n",
      "0.865 (+/-0.119) for {'priors': [0.2, 0.8]}\n",
      "0.865 (+/-0.119) for {'priors': [0.3, 0.7]}\n",
      "0.865 (+/-0.119) for {'priors': [0.4, 0.6]}\n",
      "0.865 (+/-0.119) for {'priors': [0.5, 0.5]}\n",
      "0.865 (+/-0.119) for {'priors': [0.6, 0.4]}\n",
      "0.865 (+/-0.119) for {'priors': [0.7, 0.3]}\n",
      "0.865 (+/-0.119) for {'priors': [0.8, 0.2]}\n",
      "0.865 (+/-0.119) for {'priors': [0.9, 0.1]}\n",
      "\n",
      "# Tuning hyper-parameters for roc_auc\n",
      "\n"
     ]
    },
    {
     "name": "stderr",
     "output_type": "stream",
     "text": [
      "/usr/local/lib/python3.4/dist-packages/sklearn/model_selection/_search.py:841: DeprecationWarning: The default of the `iid` parameter will change from True to False in version 0.22 and will be removed in 0.24. This will change numeric results when test-set sizes are unequal.\n",
      "  DeprecationWarning)\n"
     ]
    },
    {
     "name": "stdout",
     "output_type": "stream",
     "text": [
      "Best parameters set found on development set:\n",
      "\n",
      "{'priors': None}\n",
      "\n",
      "Grid scores on development set:\n",
      "\n",
      "0.865 (+/-0.119) for {'priors': None}\n",
      "0.865 (+/-0.119) for {'priors': [0.1, 0.9]}\n",
      "0.865 (+/-0.119) for {'priors': [0.2, 0.8]}\n",
      "0.865 (+/-0.119) for {'priors': [0.3, 0.7]}\n",
      "0.865 (+/-0.119) for {'priors': [0.4, 0.6]}\n",
      "0.865 (+/-0.119) for {'priors': [0.5, 0.5]}\n",
      "0.865 (+/-0.119) for {'priors': [0.6, 0.4]}\n",
      "0.865 (+/-0.119) for {'priors': [0.7, 0.3]}\n",
      "0.865 (+/-0.119) for {'priors': [0.8, 0.2]}\n",
      "0.865 (+/-0.119) for {'priors': [0.9, 0.1]}\n",
      "\n",
      "# Tuning hyper-parameters for roc_auc\n",
      "\n"
     ]
    },
    {
     "name": "stderr",
     "output_type": "stream",
     "text": [
      "/usr/local/lib/python3.4/dist-packages/sklearn/model_selection/_search.py:841: DeprecationWarning: The default of the `iid` parameter will change from True to False in version 0.22 and will be removed in 0.24. This will change numeric results when test-set sizes are unequal.\n",
      "  DeprecationWarning)\n"
     ]
    },
    {
     "name": "stdout",
     "output_type": "stream",
     "text": [
      "Best parameters set found on development set:\n",
      "\n",
      "{'priors': None}\n",
      "\n",
      "Grid scores on development set:\n",
      "\n",
      "0.865 (+/-0.119) for {'priors': None}\n",
      "0.865 (+/-0.119) for {'priors': [0.1, 0.9]}\n",
      "0.865 (+/-0.119) for {'priors': [0.2, 0.8]}\n",
      "0.865 (+/-0.119) for {'priors': [0.3, 0.7]}\n",
      "0.865 (+/-0.119) for {'priors': [0.4, 0.6]}\n",
      "0.865 (+/-0.119) for {'priors': [0.5, 0.5]}\n",
      "0.865 (+/-0.119) for {'priors': [0.6, 0.4]}\n",
      "0.865 (+/-0.119) for {'priors': [0.7, 0.3]}\n",
      "0.865 (+/-0.119) for {'priors': [0.8, 0.2]}\n",
      "0.865 (+/-0.119) for {'priors': [0.9, 0.1]}\n",
      "\n",
      "# Tuning hyper-parameters for roc_auc\n",
      "\n",
      "Best parameters set found on development set:\n",
      "\n",
      "{'priors': None}\n",
      "\n",
      "Grid scores on development set:\n",
      "\n",
      "0.865 (+/-0.119) for {'priors': None}\n",
      "0.865 (+/-0.119) for {'priors': [0.1, 0.9]}\n",
      "0.865 (+/-0.119) for {'priors': [0.2, 0.8]}\n",
      "0.865 (+/-0.119) for {'priors': [0.3, 0.7]}\n",
      "0.865 (+/-0.119) for {'priors': [0.4, 0.6]}\n",
      "0.865 (+/-0.119) for {'priors': [0.5, 0.5]}\n",
      "0.865 (+/-0.119) for {'priors': [0.6, 0.4]}\n",
      "0.865 (+/-0.119) for {'priors': [0.7, 0.3]}\n",
      "0.865 (+/-0.119) for {'priors': [0.8, 0.2]}\n",
      "0.865 (+/-0.119) for {'priors': [0.9, 0.1]}\n",
      "\n",
      "447 ms ± 72.6 ms per loop (mean ± std. dev. of 7 runs, 1 loop each)\n"
     ]
    },
    {
     "name": "stderr",
     "output_type": "stream",
     "text": [
      "/usr/local/lib/python3.4/dist-packages/sklearn/model_selection/_search.py:841: DeprecationWarning: The default of the `iid` parameter will change from True to False in version 0.22 and will be removed in 0.24. This will change numeric results when test-set sizes are unequal.\n",
      "  DeprecationWarning)\n"
     ]
    }
   ],
   "source": [
    "tuned_parameters = [{'priors':[None,[0.1,0.9],[0.2,0.8],[0.3,0.7],[0.4,0.6],[0.5,0.5],[0.6,0.4],[0.7,0.3],[0.8,0.2],[0.9,0.1]]}]\n",
    "% timeit GridSearch(GaussianNB(), tuned_parameters)"
   ]
  },
  {
   "cell_type": "markdown",
   "metadata": {},
   "source": [
    "### Linear SVM"
   ]
  },
  {
   "cell_type": "code",
   "execution_count": 13,
   "metadata": {
    "scrolled": true
   },
   "outputs": [
    {
     "name": "stdout",
     "output_type": "stream",
     "text": [
      "# Tuning hyper-parameters for roc_auc\n",
      "\n"
     ]
    },
    {
     "name": "stderr",
     "output_type": "stream",
     "text": [
      "/usr/local/lib/python3.4/dist-packages/sklearn/model_selection/_search.py:841: DeprecationWarning: The default of the `iid` parameter will change from True to False in version 0.22 and will be removed in 0.24. This will change numeric results when test-set sizes are unequal.\n",
      "  DeprecationWarning)\n"
     ]
    },
    {
     "name": "stdout",
     "output_type": "stream",
     "text": [
      "Best parameters set found on development set:\n",
      "\n",
      "{'C': 0.0014677992676220691}\n",
      "\n",
      "Grid scores on development set:\n",
      "\n",
      "0.869 (+/-0.126) for {'C': 0.0001}\n",
      "0.871 (+/-0.126) for {'C': 0.0001467799267622069}\n",
      "0.874 (+/-0.121) for {'C': 0.00021544346900318845}\n",
      "0.878 (+/-0.120) for {'C': 0.00031622776601683794}\n",
      "0.879 (+/-0.115) for {'C': 0.00046415888336127773}\n",
      "0.883 (+/-0.111) for {'C': 0.0006812920690579609}\n",
      "0.885 (+/-0.109) for {'C': 0.001}\n",
      "0.886 (+/-0.102) for {'C': 0.0014677992676220691}\n",
      "0.883 (+/-0.100) for {'C': 0.002154434690031882}\n",
      "0.884 (+/-0.098) for {'C': 0.0031622776601683794}\n",
      "0.883 (+/-0.103) for {'C': 0.004641588833612777}\n",
      "0.876 (+/-0.101) for {'C': 0.006812920690579608}\n",
      "0.875 (+/-0.099) for {'C': 0.01}\n",
      "0.868 (+/-0.102) for {'C': 0.01467799267622069}\n",
      "0.864 (+/-0.108) for {'C': 0.021544346900318822}\n",
      "0.861 (+/-0.106) for {'C': 0.03162277660168379}\n",
      "0.854 (+/-0.109) for {'C': 0.046415888336127774}\n",
      "0.853 (+/-0.111) for {'C': 0.06812920690579609}\n",
      "0.851 (+/-0.109) for {'C': 0.1}\n",
      "0.849 (+/-0.109) for {'C': 0.1467799267622069}\n",
      "0.848 (+/-0.110) for {'C': 0.21544346900318823}\n",
      "0.849 (+/-0.109) for {'C': 0.31622776601683794}\n",
      "0.848 (+/-0.110) for {'C': 0.46415888336127775}\n",
      "0.848 (+/-0.111) for {'C': 0.6812920690579608}\n",
      "0.848 (+/-0.112) for {'C': 1.0}\n",
      "0.848 (+/-0.113) for {'C': 1.4677992676220675}\n",
      "0.848 (+/-0.112) for {'C': 2.154434690031882}\n",
      "0.848 (+/-0.110) for {'C': 3.1622776601683795}\n",
      "0.848 (+/-0.111) for {'C': 4.641588833612772}\n",
      "0.848 (+/-0.111) for {'C': 6.812920690579608}\n",
      "0.848 (+/-0.109) for {'C': 10.0}\n",
      "0.848 (+/-0.109) for {'C': 14.677992676220676}\n",
      "0.848 (+/-0.109) for {'C': 21.54434690031882}\n",
      "0.848 (+/-0.109) for {'C': 31.622776601683793}\n",
      "0.848 (+/-0.109) for {'C': 46.41588833612773}\n",
      "0.848 (+/-0.109) for {'C': 68.12920690579608}\n",
      "0.848 (+/-0.109) for {'C': 100.0}\n",
      "0.848 (+/-0.109) for {'C': 146.77992676220674}\n",
      "0.848 (+/-0.109) for {'C': 215.44346900318823}\n",
      "0.848 (+/-0.109) for {'C': 316.22776601683796}\n",
      "0.848 (+/-0.109) for {'C': 464.1588833612773}\n",
      "0.848 (+/-0.109) for {'C': 681.2920690579608}\n",
      "0.848 (+/-0.109) for {'C': 1000.0}\n",
      "0.848 (+/-0.109) for {'C': 1467.7992676220676}\n",
      "0.848 (+/-0.109) for {'C': 2154.4346900318824}\n",
      "0.848 (+/-0.109) for {'C': 3162.2776601683795}\n",
      "0.848 (+/-0.109) for {'C': 4641.588833612773}\n",
      "0.848 (+/-0.109) for {'C': 6812.920690579608}\n",
      "0.848 (+/-0.109) for {'C': 10000.0}\n",
      "\n",
      "CPU times: user 3.65 s, sys: 2.17 s, total: 5.82 s\n",
      "Wall time: 3.02 s\n",
      "# Tuning hyper-parameters for roc_auc\n",
      "\n",
      "Best parameters set found on development set:\n",
      "\n",
      "{'C': 0.001539926526059492}\n",
      "\n",
      "Grid scores on development set:\n",
      "\n",
      "0.885 (+/-0.109) for {'C': 0.001}\n",
      "0.886 (+/-0.107) for {'C': 0.0010491397291363103}\n",
      "0.885 (+/-0.106) for {'C': 0.0011006941712522092}\n",
      "0.885 (+/-0.109) for {'C': 0.0011547819846894581}\n",
      "0.884 (+/-0.109) for {'C': 0.001211527658628589}\n",
      "0.885 (+/-0.108) for {'C': 0.0012710617996147444}\n",
      "0.885 (+/-0.106) for {'C': 0.001333521432163324}\n",
      "0.885 (+/-0.108) for {'C': 0.0013990503141372943}\n",
      "0.886 (+/-0.102) for {'C': 0.0014677992676220691}\n",
      "0.887 (+/-0.100) for {'C': 0.001539926526059492}\n",
      "0.886 (+/-0.100) for {'C': 0.0016155980984398745}\n",
      "0.886 (+/-0.100) for {'C': 0.0016949881513903461}\n",
      "0.886 (+/-0.100) for {'C': 0.0017782794100389228}\n",
      "0.885 (+/-0.101) for {'C': 0.001865663578576913}\n",
      "0.885 (+/-0.100) for {'C': 0.0019573417814876598}\n",
      "0.884 (+/-0.100) for {'C': 0.002053525026457146}\n",
      "0.883 (+/-0.100) for {'C': 0.0021544346900318843}\n",
      "0.883 (+/-0.101) for {'C': 0.0022603030271419193}\n",
      "0.884 (+/-0.098) for {'C': 0.0023713737056616554}\n",
      "0.884 (+/-0.097) for {'C': 0.002487902367238837}\n",
      "0.884 (+/-0.098) for {'C': 0.0026101572156825357}\n",
      "0.884 (+/-0.098) for {'C': 0.0027384196342643613}\n",
      "0.884 (+/-0.099) for {'C': 0.0028729848333536655}\n",
      "0.885 (+/-0.098) for {'C': 0.003014162529877389}\n",
      "0.884 (+/-0.098) for {'C': 0.0031622776601683794}\n",
      "0.885 (+/-0.099) for {'C': 0.0033176711278428547}\n",
      "0.885 (+/-0.100) for {'C': 0.0034807005884284095}\n",
      "0.885 (+/-0.099) for {'C': 0.003651741272548377}\n",
      "0.885 (+/-0.101) for {'C': 0.003831186849557285}\n",
      "0.884 (+/-0.103) for {'C': 0.004019450333615123}\n",
      "0.884 (+/-0.104) for {'C': 0.004216965034285823}\n",
      "0.882 (+/-0.104) for {'C': 0.004424185553847914}\n",
      "0.883 (+/-0.103) for {'C': 0.004641588833612777}\n",
      "0.882 (+/-0.104) for {'C': 0.004869675251658631}\n",
      "0.882 (+/-0.104) for {'C': 0.005108969774506924}\n",
      "0.881 (+/-0.103) for {'C': 0.00536002316539179}\n",
      "0.879 (+/-0.103) for {'C': 0.005623413251903491}\n",
      "0.878 (+/-0.101) for {'C': 0.005899746255923559}\n",
      "0.878 (+/-0.102) for {'C': 0.006189658188912603}\n",
      "0.878 (+/-0.103) for {'C': 0.006493816315762113}\n",
      "0.876 (+/-0.101) for {'C': 0.006812920690579608}\n",
      "0.876 (+/-0.101) for {'C': 0.007147705767941853}\n",
      "0.875 (+/-0.100) for {'C': 0.007498942093324558}\n",
      "0.876 (+/-0.102) for {'C': 0.007867438076599394}\n",
      "0.876 (+/-0.101) for {'C': 0.008254041852680182}\n",
      "0.877 (+/-0.099) for {'C': 0.008659643233600654}\n",
      "0.876 (+/-0.099) for {'C': 0.009085175756516862}\n",
      "0.875 (+/-0.100) for {'C': 0.009531618832347872}\n",
      "0.875 (+/-0.099) for {'C': 0.01}\n",
      "\n",
      "CPU times: user 2.74 s, sys: 1.7 s, total: 4.45 s\n",
      "Wall time: 2.32 s\n"
     ]
    },
    {
     "name": "stderr",
     "output_type": "stream",
     "text": [
      "/usr/local/lib/python3.4/dist-packages/sklearn/model_selection/_search.py:841: DeprecationWarning: The default of the `iid` parameter will change from True to False in version 0.22 and will be removed in 0.24. This will change numeric results when test-set sizes are unequal.\n",
      "  DeprecationWarning)\n"
     ]
    }
   ],
   "source": [
    "a=np.logspace(-4, 4, num=49, endpoint=True, base=10.0, dtype=None)\n",
    "tuned_parameters = [{'C':a}]\n",
    "%time GridSearch(LinearSVC(), tuned_parameters)\n",
    "\n",
    "a=np.logspace(-3, -2, num=49, endpoint=True, base=10.0, dtype=None)\n",
    "tuned_parameters = [{'C':a}]\n",
    "%time GridSearch(LinearSVC(), tuned_parameters)"
   ]
  },
  {
   "cell_type": "markdown",
   "metadata": {},
   "source": [
    "## Conclusiones Grid Search\n",
    "\n",
    "Presentamos a continuación los diferentes modelos utilizados, con los hiper-parámetros barridos, el mejor set, y la performance de dicho set. En el modelo LinearSVC se realizaron dos barridos. En el modelo GaussianNB todos los barridos obtuvieron exactamente la misma performance. En el modelo LDA presentamos la performance de todos los sets de hiper-parámetros.\n",
    "\n",
    "**KNN**: \n",
    "\n",
    "Tuned parameters: {'n_neighbors': range(1, 121, 10), 'weights': ['uniform', 'distance'], 'p': range(1, 3)}<br>\n",
    "**Best** parameters set: {'n_neighbors': 51, 'p': 1, 'weights': 'distance'}  <br> \n",
    "Best score: 0.885 (+/-0.121)\n",
    "\n",
    "\n",
    "**Árboles**:\n",
    "\n",
    "Tuned parameters: {'max_depth': range(1,6), 'criterion': ['gini', 'entropy']}<br>\n",
    "**Best** parameters set: {'criterion': 'entropy', 'max_depth': 2}<br>\n",
    "Best score: 0.765 (+/-0.096)\n",
    "\n",
    "**LDA**:\n",
    "\n",
    "Tuned parameters: {'solver': ['svd']}, {'solver': ['lsqr'], 'shrinkage': [None,'auto']}<br>\n",
    "**Best** parameters set: {'shrinkage': 'auto', 'solver': 'lsqr'}<br>\n",
    "Best score: 0.875 (+/-0.107)<br>\n",
    "Other scores:<br>\n",
    "0.538 (+/-0.070) for {'solver': 'svd'}<br>\n",
    "0.480 (+/-0.206) for {'shrinkage': None, 'solver': 'lsqr'}\n",
    "\n",
    "\n",
    "**GaussianNB**:\n",
    "\n",
    "Tuned parameters: {'priors': [None, [0.1, 0.9], [0.2, 0.8], [0.3, 0.7], [0.4, 0.6], [0.5, 0.5], [0.6, 0.4], [0.7, 0.3], [0.8, 0.2], [0.9, 0.1]]}<br>\n",
    "**Best** parameters set: {'priors': None}<br>\n",
    "Best score: 0.877 (+/-0.083)\n",
    "\n",
    "**LinearSVC**:\n",
    "\n",
    "Tuned parameters: {'C': np.logspace(-4, 4, num=49, base=10.0)}<br>\n",
    "&<br>\n",
    "Tuned parameters: {'C': np.logspace(-3, -2, num=49, base=10.0)}<br>\n",
    "**Best** parameters set: {'C': 0.001539926526059492}<br>\n",
    "Best score: 0.887 (+/-0.100)\n",
    "\n",
    "**Conclusiones**:\n",
    "\n",
    "Exceptuando el método de árboles, en todos los métodos obtenemos una performance similar de aproximadamente $0.88 \\pm 0.1$\n",
    "\n",
    "En el caso del método LDA vemos que la performance mejora considerablemente en el mejor set contra los otros dos, algo que no ocurre con el resto, en los que los resultados se mantienen similares entre sí. En la documentación del algoritmo encontramos que la herramienta \"shrinkage\" mejora la estimación de la matriz de covarianza en el caso en que el número de instancias de entrenamiento es chico comparado con el número de atributos. En nuestro caso tenemos 250 instancias de entrenamiento y 200 atributos en cada una de ellas, por lo que resulta coherente este resultado.\n",
    "\n",
    "El mejor resultado obtenido lo encontramos utilizando LinearSVC, aunque por un margen pequeño. Es impotante destacar que todos los modelos tienen performances similares y que ninguno de ellos supera el 88% en roc auc, con la excepción de los árboles de decisión, que tienen un rendimiento notoriamente inferior. Estos resultados sugieren que ningún modelo, en principio, superaria ese ~12% error y por tanto este porcentaje correspondería a ruido en la muestra. También parecen indicar que la muestra es (casi) linealmente separable, y por eso todos los modelos son parecidos entre sí (pues todos los modelos que se usan son lineales). El caso del arbol de decisión indicaría que los datos no son linealmente separables _en una dimensión_, pero viendo los resultados de otros clasificadores sí lo serían considerando las 200 dimensiones de cada instancia.\n"
   ]
  },
  {
   "cell_type": "markdown",
   "metadata": {},
   "source": [
    "### Punto Extra"
   ]
  },
  {
   "cell_type": "code",
   "execution_count": 7,
   "metadata": {
    "collapsed": true
   },
   "outputs": [],
   "source": [
    "#Extra\n",
    "\n",
    "from sklearn.model_selection import RandomizedSearchCV\n",
    "\n",
    "def RandomSearch(model, tuned_parameters, n_iter):\n",
    "    scores = ['roc_auc']\n",
    "\n",
    "    for score in scores:\n",
    "        print(\"# Tuning hyper-parameters for %s\" % score)\n",
    "        print()\n",
    "\n",
    "        clf = RandomizedSearchCV(model,param_distributions=tuned_parameters, n_iter=n_iter,cv=5,\n",
    "                           scoring='%s' % score, random_state = 1234)\n",
    "        clf.fit(X_train, y_train)\n",
    "\n",
    "        print(\"Best parameters set found on development set:\")\n",
    "        print()\n",
    "        print(clf.best_params_)\n",
    "        print()\n",
    "        print(\"Grid scores on development set:\")\n",
    "        print()\n",
    "        means = clf.cv_results_['mean_test_score']\n",
    "        stds = clf.cv_results_['std_test_score']\n",
    "        for mean, std, params in zip(means, stds, clf.cv_results_['params']):\n",
    "            print(\"%0.3f (+/-%0.03f) for %r\"\n",
    "                  % (mean, std * 2, params))\n",
    "        print()\n"
   ]
  },
  {
   "cell_type": "markdown",
   "metadata": {},
   "source": [
    "### KNN"
   ]
  },
  {
   "cell_type": "code",
   "execution_count": 15,
   "metadata": {},
   "outputs": [
    {
     "name": "stdout",
     "output_type": "stream",
     "text": [
      "# Tuning hyper-parameters for roc_auc\n",
      "\n",
      "Best parameters set found on development set:\n",
      "\n",
      "{'p': 1, 'n_neighbors': 51, 'weights': 'distance'}\n",
      "\n",
      "Grid scores on development set:\n",
      "\n",
      "0.865 (+/-0.126) for {'p': 1, 'n_neighbors': 101, 'weights': 'uniform'}\n",
      "0.877 (+/-0.118) for {'p': 2, 'n_neighbors': 61, 'weights': 'distance'}\n",
      "0.867 (+/-0.127) for {'p': 2, 'n_neighbors': 91, 'weights': 'distance'}\n",
      "0.866 (+/-0.127) for {'p': 1, 'n_neighbors': 111, 'weights': 'uniform'}\n",
      "0.867 (+/-0.098) for {'p': 2, 'n_neighbors': 11, 'weights': 'uniform'}\n",
      "0.862 (+/-0.132) for {'p': 2, 'n_neighbors': 111, 'weights': 'uniform'}\n",
      "0.878 (+/-0.109) for {'p': 1, 'n_neighbors': 31, 'weights': 'distance'}\n",
      "0.874 (+/-0.106) for {'p': 1, 'n_neighbors': 21, 'weights': 'uniform'}\n",
      "0.868 (+/-0.137) for {'p': 1, 'n_neighbors': 121, 'weights': 'distance'}\n",
      "0.874 (+/-0.123) for {'p': 2, 'n_neighbors': 71, 'weights': 'distance'}\n",
      "0.866 (+/-0.081) for {'p': 1, 'n_neighbors': 11, 'weights': 'uniform'}\n",
      "0.885 (+/-0.121) for {'p': 1, 'n_neighbors': 51, 'weights': 'distance'}\n",
      "0.866 (+/-0.127) for {'p': 1, 'n_neighbors': 111, 'weights': 'distance'}\n",
      "0.865 (+/-0.133) for {'p': 2, 'n_neighbors': 121, 'weights': 'distance'}\n",
      "0.879 (+/-0.136) for {'p': 2, 'n_neighbors': 41, 'weights': 'uniform'}\n",
      "0.884 (+/-0.123) for {'p': 1, 'n_neighbors': 51, 'weights': 'uniform'}\n",
      "0.878 (+/-0.113) for {'p': 2, 'n_neighbors': 21, 'weights': 'uniform'}\n",
      "0.872 (+/-0.098) for {'p': 2, 'n_neighbors': 11, 'weights': 'distance'}\n",
      "0.877 (+/-0.098) for {'p': 2, 'n_neighbors': 31, 'weights': 'uniform'}\n",
      "0.878 (+/-0.108) for {'p': 1, 'n_neighbors': 41, 'weights': 'distance'}\n",
      "0.871 (+/-0.134) for {'p': 2, 'n_neighbors': 51, 'weights': 'uniform'}\n",
      "0.880 (+/-0.122) for {'p': 1, 'n_neighbors': 61, 'weights': 'distance'}\n",
      "0.876 (+/-0.129) for {'p': 1, 'n_neighbors': 71, 'weights': 'distance'}\n",
      "0.707 (+/-0.153) for {'p': 1, 'n_neighbors': 1, 'weights': 'distance'}\n",
      "0.872 (+/-0.131) for {'p': 2, 'n_neighbors': 81, 'weights': 'distance'}\n",
      "0.862 (+/-0.138) for {'p': 2, 'n_neighbors': 121, 'weights': 'uniform'}\n",
      "0.708 (+/-0.070) for {'p': 2, 'n_neighbors': 1, 'weights': 'uniform'}\n",
      "0.875 (+/-0.117) for {'p': 1, 'n_neighbors': 81, 'weights': 'distance'}\n",
      "0.868 (+/-0.120) for {'p': 1, 'n_neighbors': 91, 'weights': 'distance'}\n",
      "0.874 (+/-0.119) for {'p': 1, 'n_neighbors': 81, 'weights': 'uniform'}\n",
      "0.867 (+/-0.125) for {'p': 1, 'n_neighbors': 91, 'weights': 'uniform'}\n",
      "0.707 (+/-0.153) for {'p': 1, 'n_neighbors': 1, 'weights': 'uniform'}\n",
      "0.880 (+/-0.110) for {'p': 2, 'n_neighbors': 21, 'weights': 'distance'}\n",
      "0.708 (+/-0.070) for {'p': 2, 'n_neighbors': 1, 'weights': 'distance'}\n",
      "0.868 (+/-0.130) for {'p': 2, 'n_neighbors': 81, 'weights': 'uniform'}\n",
      "0.868 (+/-0.136) for {'p': 1, 'n_neighbors': 121, 'weights': 'uniform'}\n",
      "0.876 (+/-0.108) for {'p': 1, 'n_neighbors': 21, 'weights': 'distance'}\n",
      "0.875 (+/-0.111) for {'p': 1, 'n_neighbors': 41, 'weights': 'uniform'}\n",
      "0.871 (+/-0.086) for {'p': 1, 'n_neighbors': 11, 'weights': 'distance'}\n",
      "0.874 (+/-0.129) for {'p': 1, 'n_neighbors': 71, 'weights': 'uniform'}\n",
      "0.868 (+/-0.132) for {'p': 2, 'n_neighbors': 101, 'weights': 'distance'}\n",
      "0.865 (+/-0.129) for {'p': 2, 'n_neighbors': 101, 'weights': 'uniform'}\n",
      "0.870 (+/-0.122) for {'p': 2, 'n_neighbors': 71, 'weights': 'uniform'}\n",
      "0.876 (+/-0.119) for {'p': 2, 'n_neighbors': 61, 'weights': 'uniform'}\n",
      "0.866 (+/-0.126) for {'p': 1, 'n_neighbors': 101, 'weights': 'distance'}\n",
      "0.875 (+/-0.134) for {'p': 2, 'n_neighbors': 51, 'weights': 'distance'}\n",
      "0.880 (+/-0.096) for {'p': 2, 'n_neighbors': 31, 'weights': 'distance'}\n",
      "0.877 (+/-0.125) for {'p': 1, 'n_neighbors': 61, 'weights': 'uniform'}\n",
      "0.876 (+/-0.108) for {'p': 1, 'n_neighbors': 31, 'weights': 'uniform'}\n",
      "0.865 (+/-0.126) for {'p': 2, 'n_neighbors': 91, 'weights': 'uniform'}\n",
      "\n",
      "CPU times: user 7.88 s, sys: 620 ms, total: 8.5 s\n",
      "Wall time: 7.64 s\n"
     ]
    },
    {
     "name": "stderr",
     "output_type": "stream",
     "text": [
      "/usr/local/lib/python3.4/dist-packages/sklearn/model_selection/_search.py:841: DeprecationWarning: The default of the `iid` parameter will change from True to False in version 0.22 and will be removed in 0.24. This will change numeric results when test-set sizes are unequal.\n",
      "  DeprecationWarning)\n"
     ]
    }
   ],
   "source": [
    "tuned_parameters = {'n_neighbors':range(1, len(X_test)//2, 10), 'weights':[\"uniform\", \"distance\"], 'p':range(1, 3)}\n",
    "%time RandomSearch(KNeighborsClassifier(), tuned_parameters,n_iter=50)"
   ]
  },
  {
   "cell_type": "markdown",
   "metadata": {},
   "source": [
    "### Árboles de decisión"
   ]
  },
  {
   "cell_type": "code",
   "execution_count": 16,
   "metadata": {},
   "outputs": [
    {
     "name": "stdout",
     "output_type": "stream",
     "text": [
      "# Tuning hyper-parameters for roc_auc\n",
      "\n",
      "Best parameters set found on development set:\n",
      "\n",
      "{'max_depth': 3, 'criterion': 'gini'}\n",
      "\n",
      "Grid scores on development set:\n",
      "\n",
      "0.685 (+/-0.052) for {'max_depth': 9, 'criterion': 'gini'}\n",
      "0.753 (+/-0.145) for {'max_depth': 2, 'criterion': 'gini'}\n",
      "0.687 (+/-0.102) for {'max_depth': 11, 'criterion': 'entropy'}\n",
      "0.658 (+/-0.060) for {'max_depth': 5, 'criterion': 'gini'}\n",
      "0.673 (+/-0.184) for {'max_depth': 4, 'criterion': 'gini'}\n",
      "0.662 (+/-0.141) for {'max_depth': 8, 'criterion': 'gini'}\n",
      "0.716 (+/-0.090) for {'max_depth': 5, 'criterion': 'entropy'}\n",
      "0.679 (+/-0.116) for {'max_depth': 11, 'criterion': 'gini'}\n",
      "0.692 (+/-0.120) for {'max_depth': 1, 'criterion': 'entropy'}\n",
      "0.647 (+/-0.128) for {'max_depth': 14, 'criterion': 'gini'}\n",
      "0.757 (+/-0.203) for {'max_depth': 3, 'criterion': 'gini'}\n",
      "0.676 (+/-0.127) for {'max_depth': 12, 'criterion': 'entropy'}\n",
      "0.691 (+/-0.041) for {'max_depth': 13, 'criterion': 'entropy'}\n",
      "0.702 (+/-0.087) for {'max_depth': 1, 'criterion': 'gini'}\n",
      "0.676 (+/-0.036) for {'max_depth': 6, 'criterion': 'gini'}\n",
      "0.687 (+/-0.121) for {'max_depth': 9, 'criterion': 'entropy'}\n",
      "0.750 (+/-0.109) for {'max_depth': 3, 'criterion': 'entropy'}\n",
      "0.679 (+/-0.113) for {'max_depth': 10, 'criterion': 'entropy'}\n",
      "0.667 (+/-0.111) for {'max_depth': 12, 'criterion': 'gini'}\n",
      "0.681 (+/-0.067) for {'max_depth': 10, 'criterion': 'gini'}\n",
      "\n",
      "CPU times: user 3.75 s, sys: 0 ns, total: 3.75 s\n",
      "Wall time: 3.75 s\n"
     ]
    },
    {
     "name": "stderr",
     "output_type": "stream",
     "text": [
      "/usr/local/lib/python3.4/dist-packages/sklearn/model_selection/_search.py:841: DeprecationWarning: The default of the `iid` parameter will change from True to False in version 0.22 and will be removed in 0.24. This will change numeric results when test-set sizes are unequal.\n",
      "  DeprecationWarning)\n"
     ]
    }
   ],
   "source": [
    "tuned_parameters = {'max_depth':range(1,15) , 'criterion': [\"gini\", \"entropy\"]}\n",
    "n_iter=20\n",
    "%time RandomSearch(DecisionTreeClassifier(), tuned_parameters,n_iter)"
   ]
  },
  {
   "cell_type": "markdown",
   "metadata": {},
   "source": [
    "### Linear SVM"
   ]
  },
  {
   "cell_type": "code",
   "execution_count": 17,
   "metadata": {},
   "outputs": [
    {
     "name": "stdout",
     "output_type": "stream",
     "text": [
      "# Tuning hyper-parameters for roc_auc\n",
      "\n",
      "Best parameters set found on development set:\n",
      "\n",
      "{'C': 0.0015025598101093456}\n",
      "\n",
      "Grid scores on development set:\n",
      "\n",
      "0.877 (+/-0.100) for {'C': 0.00850666436052429}\n",
      "0.885 (+/-0.101) for {'C': 0.0038078147056072194}\n",
      "0.883 (+/-0.101) for {'C': 0.002192115377602205}\n",
      "0.884 (+/-0.103) for {'C': 0.004038369582315153}\n",
      "0.876 (+/-0.102) for {'C': 0.007845288992683828}\n",
      "0.876 (+/-0.101) for {'C': 0.006696505941218151}\n",
      "0.883 (+/-0.101) for {'C': 0.002108595328061282}\n",
      "0.885 (+/-0.100) for {'C': 0.003629573526144963}\n",
      "0.883 (+/-0.096) for {'C': 0.0025846046655082725}\n",
      "0.885 (+/-0.108) for {'C': 0.0012430567176970216}\n",
      "0.886 (+/-0.101) for {'C': 0.00172608576369937}\n",
      "0.884 (+/-0.109) for {'C': 0.0012084281186108957}\n",
      "0.875 (+/-0.100) for {'C': 0.009542008440816466}\n",
      "0.883 (+/-0.100) for {'C': 0.0021852614025497023}\n",
      "0.883 (+/-0.097) for {'C': 0.002551784930795491}\n",
      "0.884 (+/-0.109) for {'C': 0.001203928806587987}\n",
      "0.880 (+/-0.101) for {'C': 0.005432345079311948}\n",
      "0.878 (+/-0.102) for {'C': 0.006197662495415088}\n",
      "0.878 (+/-0.102) for {'C': 0.00627029498869139}\n",
      "0.881 (+/-0.103) for {'C': 0.005392713127988336}\n",
      "0.877 (+/-0.099) for {'C': 0.008611907391906634}\n",
      "0.877 (+/-0.099) for {'C': 0.008614088951442136}\n",
      "0.885 (+/-0.097) for {'C': 0.003118781431367158}\n",
      "0.882 (+/-0.104) for {'C': 0.00479674696532278}\n",
      "0.884 (+/-0.100) for {'C': 0.002305226625880903}\n",
      "0.885 (+/-0.107) for {'C': 0.0010920446169200447}\n",
      "0.886 (+/-0.099) for {'C': 0.0016698298748205494}\n",
      "0.886 (+/-0.100) for {'C': 0.001643622803578521}\n",
      "0.878 (+/-0.102) for {'C': 0.006333707696066611}\n",
      "0.878 (+/-0.101) for {'C': 0.0059889098183147004}\n",
      "0.884 (+/-0.098) for {'C': 0.0032123663521415147}\n",
      "0.879 (+/-0.102) for {'C': 0.0058236819934767235}\n",
      "0.886 (+/-0.101) for {'C': 0.001725489691780242}\n",
      "0.884 (+/-0.097) for {'C': 0.0024861306928731838}\n",
      "0.886 (+/-0.100) for {'C': 0.0016302421682693542}\n",
      "0.885 (+/-0.106) for {'C': 0.0013215123031089277}\n",
      "0.879 (+/-0.102) for {'C': 0.005769359629414668}\n",
      "0.878 (+/-0.101) for {'C': 0.006595355237507737}\n",
      "0.884 (+/-0.098) for {'C': 0.003194074513636341}\n",
      "0.887 (+/-0.100) for {'C': 0.0015025598101093456}\n",
      "0.884 (+/-0.103) for {'C': 0.004008722835908645}\n",
      "0.885 (+/-0.099) for {'C': 0.002954028657439477}\n",
      "0.885 (+/-0.109) for {'C': 0.0011642082172402036}\n",
      "0.882 (+/-0.103) for {'C': 0.005012299348445966}\n",
      "0.885 (+/-0.107) for {'C': 0.0010887053801183683}\n",
      "0.885 (+/-0.108) for {'C': 0.001390917697691263}\n",
      "0.884 (+/-0.107) for {'C': 0.0013733188390735803}\n",
      "0.885 (+/-0.106) for {'C': 0.0012965256938672809}\n",
      "0.882 (+/-0.104) for {'C': 0.004881090783341671}\n",
      "0.885 (+/-0.102) for {'C': 0.003967125912558048}\n",
      "\n",
      "CPU times: user 2.76 s, sys: 1.61 s, total: 4.38 s\n",
      "Wall time: 2.29 s\n"
     ]
    },
    {
     "name": "stderr",
     "output_type": "stream",
     "text": [
      "/usr/local/lib/python3.4/dist-packages/sklearn/model_selection/_search.py:841: DeprecationWarning: The default of the `iid` parameter will change from True to False in version 0.22 and will be removed in 0.24. This will change numeric results when test-set sizes are unequal.\n",
      "  DeprecationWarning)\n"
     ]
    }
   ],
   "source": [
    "a=np.logspace(-3, -2, num=100000, endpoint=True, base=10.0, dtype=None)\n",
    "tuned_parameters = {'C':a}\n",
    "n_iter=50\n",
    "%time RandomSearch(LinearSVC(), tuned_parameters,n_iter)"
   ]
  },
  {
   "cell_type": "markdown",
   "metadata": {},
   "source": [
    "## Conclusiones Extra\n",
    "\n",
    "Presentamos los tres modelos en los que realizamos RandomSearch, con el mejor set de hiper-parámetros, la performance de dicho set, y el tiempo de ejecución (comparado con el de GridSearch).\n",
    "Recordemos que la idea de esta técnica es intentar encontrar un mejor set de hiperparámetros que pudieran no haber sido detectados debido a la discretización regular del espacio de búsqueda, pero sin empeorar los tiempos de cómputo, por lo que es esperable que sean similares a los del GridSearch.\n",
    "\n",
    "**KNN:** \n",
    "Best score: 0.885 (+/-0.121) for {'weights': 'distance', 'p': 1, 'n_neighbors': 51}\n",
    "RandomSearch wall time: 7.01 s\n",
    "GRIDSearch wall time: 7.56 s\n",
    "\n",
    "**Arboles:**\n",
    "Best score: 0.765 (+/-0.096) for {'max_depth': 2, 'criterion': 'entropy'}\n",
    "Wall time: 1.89 s\n",
    "GRID: Wall time: 1.6 s\n",
    "\n",
    "**Linear SVC:**\n",
    "Best score: 0.887 (+/-0.100) for {'C': 0.0015262013596464125}\n",
    "Wall time: 1.86 s\n",
    "GRID: Wall time: 1.82 s\n",
    "\n",
    "Comencemos destacando que los tiempos de ejecución entre ambas técnicas son similares y por tanto coincidentes con lo que esperábamos. En cuanto a los resultados, tanto en kNN como en Arboles de decision se encontraron los mismos conjuntos de hiperparámetros. Esto es así porque el espacio de búsqueda de hiperparámetros para ambos modelos es _discreto_ y por tanto RandomSearch no presenta mejoras posibles, dado que la técnica suele encontrar mejores parámetros en espacios de búsqueda densos (de hecho, como las posibilidades que se prueban se toman al azar, RandomSearch podría encontrar peores combinaciones de hiperparámetros que GridSearch en espacios discretos). En cuanto a LinearSVC, un mejor valor para C fue encontrado, lo cual es coherente tomando en cuenta que es un valor real y que por tanto la discretización del GridSearch es más proclive a saltear puntos o _zonas_ con mejores resultados."
   ]
  },
  {
   "cell_type": "markdown",
   "metadata": {},
   "source": [
    "## Ejercicio 4: \n",
    "### Diagnóstico Sesgo-Varianza. \n",
    "\n",
    "En este punto, se pide inspeccionar dos de sus mejores modelos encontrados hasta ahora: el mejor modelo de tipo árbol de decisión y el mejor de tipo SVM. Para ello:\n",
    "\n",
    "1. Graficar curvas de complejidad para cada modelo, variando la profundidad en el caso de árboles, y el hiperparámetro C en el caso de SVM. Diagnosticar cómo afectan al sesgo y a la varianza esos dos hiperparámetros.\n",
    "2. Graficar curvas de aprendizaje para cada modelo. En base a estas curvas, sacar conclusiones sobre si los algoritmos parecen haber alcanzado su límite, o bien si aumentar la cantidad de datos debería ayudar.\n",
    "3. Construir un modelo RandomForest con 200 árboles. Explorar para qué sirve el hiperparámetro max_features y cómo afecta a la performance del algoritmo mediante una curva de complejidad. Explicar por qué creen que se dieron los resultados obtenidos. Por último, graficar una curva de aprendizaje sobre los parámetros elegidos para determinar si sería útil o no conseguir más datos (usar  grid search para encontrar una buena combinación de parámetros).  \n",
    "\n",
    "\n",
    "**Atención**: Tener en cuenta que debemos seguir utilizando ROC AUC como métrica para estas curvas.\n",
    "\n",
    "**ver**: http://scikit-learn.org/stable/modules/learning_curve.html#learning-curve\n",
    "\n",
    "----\n",
    "**EJERCICIO EXTRA:** Utilizar RandomizedSearchCV para explorar la performance del algoritmo de Gradient Boosting y comparar con los resultados obtenidos en el punto (c).\n",
    "\n",
    "\n",
    "----\n",
    "\n",
    "\n"
   ]
  },
  {
   "cell_type": "markdown",
   "metadata": {},
   "source": [
    "## Punto 1"
   ]
  },
  {
   "cell_type": "code",
   "execution_count": 47,
   "metadata": {},
   "outputs": [
    {
     "data": {
      "text/plain": [
       "<matplotlib.legend.Legend at 0x7fb095a934e0>"
      ]
     },
     "execution_count": 47,
     "metadata": {},
     "output_type": "execute_result"
    },
    {
     "data": {
      "image/png": "[encoded data removed]",
      "text/plain": [
       "<matplotlib.figure.Figure at 0x7fb095b3d2e8>"
      ]
     },
     "metadata": {},
     "output_type": "display_data"
    }
   ],
   "source": [
    "# Punto 1\n",
    "\n",
    "roc_auc_tree_train = []\n",
    "roc_auc_tree_test = []\n",
    "\n",
    "tree_lengths = np.arange(1, 20)\n",
    "\n",
    "kf = KFold(n_splits=5, shuffle=False, random_state=1234)\n",
    "\n",
    "for length in tree_lengths:\n",
    "\n",
    "    lista_aucs_train = []\n",
    "    lista_aucs_test = []\n",
    "    \n",
    "    for train_index, test_index in kf.split(X_dev):\n",
    "        #print(\"TRAIN:\", train_index, \"TEST:\", test_index)\n",
    "        X_train, X_test = X_dev_np[train_index], X_dev_np[test_index]\n",
    "        y_train, y_test = y_dev_np[train_index], y_dev_np[test_index]\n",
    "\n",
    "        arbol = DecisionTreeClassifier(max_depth=length, criterion='entropy')\n",
    "        arbol.fit(X_train, y_train)\n",
    "\n",
    "        y_pred_test = arbol.predict(X_test)\n",
    "        y_pred_train = arbol.predict(X_train)\n",
    "\n",
    "        roc_auc_test=sklearn.metrics.roc_auc_score(y_test, y_pred_test, sample_weight=None)\n",
    "        roc_auc_train=sklearn.metrics.roc_auc_score(y_train, y_pred_train, sample_weight=None)\n",
    "        lista_aucs_train.append(roc_auc_train)\n",
    "        lista_aucs_test.append(roc_auc_test)\n",
    "\n",
    "\n",
    "    roc_auc_tree_train.append( np.mean(lista_aucs_train) )\n",
    "    roc_auc_tree_test.append( np.mean(lista_aucs_test) )\n",
    "    \n",
    "plt.figure()\n",
    "plt.plot(tree_lengths, roc_auc_tree_train, color = 'blue', label = 'datos de entrenamiento')\n",
    "plt.plot(tree_lengths, roc_auc_tree_test, color = 'red', label = 'datos de validación')\n",
    "plt.xlabel('Altura del árbol')\n",
    "plt.ylabel('ROC AUC')\n",
    "plt.title('Curva de complejidad: Árboles de decisión')\n",
    "plt.grid(True)\n",
    "plt.legend()    "
   ]
  },
  {
   "cell_type": "markdown",
   "metadata": {},
   "source": [
    "### Discusión\n",
    "\n",
    "En el caso de los árboles de decisión, el hiperparámetro que indica la complejidad es su altura; al permitir nodos más profundos, el modelo separa las instancias en un mayor número de regiones, de esa manera complejizándose. \n",
    "Al graficar la ROC AUC en función de esta complejidad para los datos de entrenamiento, vemos que la métrica aumenta hasta alcanzar un valor perfecto (cerca de la altura 5). Teniendo en cuenta que la misma métrica es bastante más baja sobre los datos de validación para esas alturas, podemos concluir que el modelo empieza a _overfittear_. Esto implica que se tiene un sesgo bajo para alturas grandes, pero también una alta varianza, ya que diferentes conjuntos de entrenamiento resultarán en modelos que se (sobre)ajustarán de manera diferente a sus datos. \n",
    "\n",
    "En cambio, para una altura baja, si existieran _predictores fuertes_ que separen bien a los datos se tendría una varianza baja, puesto que los diferentes árboles resultarían similares al utilizar estos predictores cerca de la raiz.   \n"
   ]
  },
  {
   "cell_type": "code",
   "execution_count": 9,
   "metadata": {},
   "outputs": [
    {
     "data": {
      "text/plain": [
       "<matplotlib.legend.Legend at 0x7fb09a6207f0>"
      ]
     },
     "execution_count": 9,
     "metadata": {},
     "output_type": "execute_result"
    },
    {
     "data": {
      "image/png": "[encoded data removed]",
      "text/plain": [
       "<matplotlib.figure.Figure at 0x7fb09a719e48>"
      ]
     },
     "metadata": {},
     "output_type": "display_data"
    }
   ],
   "source": [
    "roc_auc_svm_train = []\n",
    "roc_auc_svm_test = []\n",
    "\n",
    "svm_c = np.logspace(-5, 2, 100)\n",
    "\n",
    "for c in svm_c:\n",
    "    \n",
    "    lista_aucs_train = []\n",
    "    lista_aucs_test = []\n",
    "    \n",
    "    for train_index, test_index in kf.split(X_dev):\n",
    "        #print(\"TRAIN:\", train_index, \"TEST:\", test_index)\n",
    "        X_train, X_test = X_dev_np[train_index], X_dev_np[test_index]\n",
    "        y_train, y_test = y_dev_np[train_index], y_dev_np[test_index]\n",
    "\n",
    "        svm = LinearSVC(C=c)\n",
    "        svm.fit(X_train, y_train)\n",
    "\n",
    "        y_pred_test = svm.predict(X_test)\n",
    "        y_pred_train = svm.predict(X_train)\n",
    "\n",
    "        roc_auc_test=sklearn.metrics.roc_auc_score(y_test, y_pred_test, sample_weight=None)\n",
    "        roc_auc_train=sklearn.metrics.roc_auc_score(y_train, y_pred_train, sample_weight=None)\n",
    "        lista_aucs_train.append(roc_auc_train)\n",
    "        lista_aucs_test.append(roc_auc_test)\n",
    "\n",
    "\n",
    "    roc_auc_svm_train.append( np.mean(lista_aucs_train) )\n",
    "    roc_auc_svm_test.append( np.mean(lista_aucs_test) )\n",
    "    \n",
    "plt.figure()\n",
    "plt.semilogx(svm_c, np.array(roc_auc_svm_train), color = 'blue', label = 'datos de entrenamiento')\n",
    "plt.semilogx(svm_c, np.array(roc_auc_svm_test), color = 'red', label = 'datos de validación')\n",
    "plt.xlabel('Hiperparámetro C')\n",
    "plt.ylabel('ROC AUC')\n",
    "plt.title('Curva de complejidad: Linear Vector Classifier')\n",
    "plt.grid(True)\n",
    "plt.legend()"
   ]
  },
  {
   "cell_type": "markdown",
   "metadata": {},
   "source": [
    "### Discusión\n",
    "\n",
    "En el caso del SVM lineal, el hiperparámetro que cuantifica la complejidad del modelo es el $C$. Éste indica el \"presupuesto\" que se tiene para que instancias puedan caer dentro de un margen del hiperplano separador. Si se aumenta su valor, se permite que más instancias se ubiquen dentro de este margen. Esto hace al modelo más complejo, ya que habrán más opciones de separación. \n",
    "\n",
    "Estudiando la ROC AUC sobre datos de entrenamiento y validación en función de este hiperparámetro $C$, vemos un comportamiento similar al observado para los árboles de decisión. Se tiene un valor $\\left( C \\sim 10^{-2} \\right)$ a partir del cual esta métrica es perfecta para los datos de entrenamiento pero bastante inferior para los de validación.\n",
    "Nuevamente, para complejidad mayor (en este caso, un $C$ más grande) se obtienen modelos con menor sesgo pero mayor varianza. \n"
   ]
  },
  {
   "cell_type": "markdown",
   "metadata": {},
   "source": [
    "## Punto 2"
   ]
  },
  {
   "cell_type": "code",
   "execution_count": 11,
   "metadata": {},
   "outputs": [],
   "source": [
    "# Punto 2\n",
    "\n",
    "from sklearn.model_selection import learning_curve"
   ]
  },
  {
   "cell_type": "code",
   "execution_count": 12,
   "metadata": {},
   "outputs": [
    {
     "data": {
      "text/plain": [
       "<matplotlib.legend.Legend at 0x7fb09a3022b0>"
      ]
     },
     "execution_count": 12,
     "metadata": {},
     "output_type": "execute_result"
    },
    {
     "data": {
      "image/png": "[encoded data removed]",
      "text/plain": [
       "<matplotlib.figure.Figure at 0x7fb09a518518>"
      ]
     },
     "metadata": {},
     "output_type": "display_data"
    },
    {
     "data": {
      "image/png": "[encoded data removed]",
      "text/plain": [
       "<matplotlib.figure.Figure at 0x7fb09a33f898>"
      ]
     },
     "metadata": {},
     "output_type": "display_data"
    }
   ],
   "source": [
    "\n",
    "\n",
    "train_sizes, train_scores_tree, valid_scores_tree = learning_curve(\n",
    "    DecisionTreeClassifier(max_depth=2, criterion='entropy'), X_dev_np, y_dev_np, train_sizes=range(5, 199, 5), cv=5, \n",
    "    scoring = 'roc_auc')\n",
    "\n",
    "#train_sizes, train_scores_tree, valid_scores_tree = learning_curve(\n",
    "#    DecisionTreeClassifier(max_depth=2, criterion='entropy'), X, y, train_sizes=range(10, 399, 10), cv=5, \n",
    "#    scoring = 'roc_auc')\n",
    "\n",
    "\n",
    "plt.figure()\n",
    "plt.plot(train_sizes, 1-np.mean(train_scores_tree, axis = 1), color = 'blue', label = 'Error de entrenamiento')\n",
    "plt.plot(train_sizes, 1-np.mean(valid_scores_tree, axis = 1), color = 'red', label = 'Error de validación')\n",
    "plt.ylim(0, 0.6)\n",
    "plt.xlabel('Datos de entrenamiento')\n",
    "plt.ylabel('Error')\n",
    "plt.title('Curva de aprendizaje: Árboles de decisión')\n",
    "plt.grid(True)\n",
    "plt.legend()\n",
    "\n",
    "train_sizes, train_scores_svm, valid_scores_svm = learning_curve(\n",
    "    LinearSVC(C=0.0015), X_dev_np, y_dev_np, train_sizes=range(5, 199, 5), cv=5, \n",
    "    scoring = 'roc_auc')\n",
    "\n",
    "#train_sizes, train_scores_svm, valid_scores_svm = learning_curve(\n",
    "#    LinearSVC(C=0.0015), X, y,train_sizes=range(10, 399, 10), cv=5, \n",
    "#    scoring = 'roc_auc')\n",
    "\n",
    "\n",
    "plt.figure()\n",
    "plt.plot(train_sizes, 1-np.mean(train_scores_svm, axis = 1), color = 'blue', label = 'Error de entrenamiento')\n",
    "plt.plot(train_sizes, 1-np.mean(valid_scores_svm, axis = 1), color = 'red', label = 'Error de validación')\n",
    "plt.ylim(0,0.6)\n",
    "plt.xlabel('Datos de entrenamiento')\n",
    "plt.ylabel('Error')\n",
    "plt.title('Curva de aprendizaje: Linear Vector Classifier')\n",
    "plt.grid(True)\n",
    "plt.legend()"
   ]
  },
  {
   "cell_type": "markdown",
   "metadata": {},
   "source": [
    "### Discusión\n",
    "En el caso del árbol de decisión vemos que la varianza (en el gŕafico vista como la distancia entre las curvas de error de validación y entrenamiento) disminuye a medida que aumenta la cantidad de datos de entrenamiento. Por otro lado, vemos también que aumenta el sesgo, siendo éste el error sobre los datos de entrenamiento. Este aumento sólo es pronunciado _hasta los 100_ datos de entrenamiento, y luego parece mantenerse aproximadamente consante; mientras que el error de validación continúa disminuyendo en el mismo rango. Estos dos factores nos permiten pensar que al aumentar la cantidad de datos continuarán acercándose ambas curvas, ya que el error de validación baja y el de entrenamiento se mantiene. \n",
    "Entonces, podemos concluir que es conveniente aumentar la cantidad de datos para el entrenamiento; puesto que el sesgo se mantendrá y la varianza disminuirá. \n",
    "\n",
    "En cambio, para la SVM vemos otro comportamiento. El sesgo es relativamente bajo (en comparación con el árbol de decisión) y no parece aumentar notablemente. El error de validación disminuye ligeramente a medida que se incrementan los datos de entrenamiento; no obstante, su disminución se reduce al aumentar los datos. De esa forma, vemos que la varianza se achica gradualmente, pero parece estabilizarse al tomar el total de los datos. \n",
    "Por lo tanto, en este caso no consideramos que sea útil aumentar la cantidad de datos, pues ya parece llegarse al límite del algoritmo y no habrá mayor reducción de varianza.  \n"
   ]
  },
  {
   "cell_type": "markdown",
   "metadata": {},
   "source": [
    "## Punto 3"
   ]
  },
  {
   "cell_type": "code",
   "execution_count": 13,
   "metadata": {
    "collapsed": true
   },
   "outputs": [],
   "source": [
    "# Punto 3\n",
    "\n",
    "from sklearn.ensemble import RandomForestClassifier\n",
    "\n",
    "#forest = RandomForestClassifier(n_estimators = 200, max_features='auto')\n",
    "# max_features impone cuántos atributos (del total) se consideran al partir desde un nodo. El 'auto' es sqrt(n_features)\n",
    "\n",
    "\n"
   ]
  },
  {
   "cell_type": "code",
   "execution_count": 14,
   "metadata": {},
   "outputs": [
    {
     "data": {
      "text/plain": [
       "<matplotlib.legend.Legend at 0x7fb09a3a2cc0>"
      ]
     },
     "execution_count": 14,
     "metadata": {},
     "output_type": "execute_result"
    },
    {
     "data": {
      "image/png": "[encoded data removed]",
      "text/plain": [
       "<matplotlib.figure.Figure at 0x7fb09a31d0f0>"
      ]
     },
     "metadata": {},
     "output_type": "display_data"
    }
   ],
   "source": [
    "\n",
    "roc_auc_forest_train = []\n",
    "roc_auc_forest_test = []\n",
    "\n",
    "max_features_list = np.arange(1,150,5)\n",
    "\n",
    "for max_features in max_features_list:\n",
    "        \n",
    "    lista_aucs_train = []\n",
    "    lista_aucs_test = []\n",
    "    \n",
    "    for train_index, test_index in kf.split(X_dev):\n",
    "        #print(\"TRAIN:\", train_index, \"TEST:\", test_index)\n",
    "        X_train, X_test = X_dev_np[train_index], X_dev_np[test_index]\n",
    "        y_train, y_test = y_dev_np[train_index], y_dev_np[test_index]\n",
    "\n",
    "        forest = RandomForestClassifier(n_estimators=200, max_features=max_features)\n",
    "        forest.fit(X_train, y_train)\n",
    "\n",
    "        y_pred_test = forest.predict(X_test)\n",
    "        y_pred_train = forest.predict(X_train)\n",
    "\n",
    "        roc_auc_test=sklearn.metrics.roc_auc_score(y_test, y_pred_test, sample_weight=None)\n",
    "        roc_auc_train=sklearn.metrics.roc_auc_score(y_train, y_pred_train, sample_weight=None)\n",
    "        lista_aucs_train.append(roc_auc_train)\n",
    "        lista_aucs_test.append(roc_auc_test)\n",
    "\n",
    "\n",
    "    roc_auc_forest_train.append( np.mean(lista_aucs_train) )\n",
    "    roc_auc_forest_test.append( np.mean(lista_aucs_test) )\n",
    "\n",
    "\n",
    "plt.figure()\n",
    "plt.plot(max_features_list, np.array(roc_auc_forest_train), color = 'blue', label = 'datos de entrenamiento')\n",
    "plt.plot(max_features_list, np.array(roc_auc_forest_test), color = 'red', label = 'datos de validación')\n",
    "plt.xlabel('Máximo de atributos a considerar en cada nodo')\n",
    "plt.ylabel('ROC AUC')\n",
    "plt.title('Curva de complejidad: Random Forest')\n",
    "plt.grid(True)\n",
    "plt.legend()"
   ]
  },
  {
   "cell_type": "markdown",
   "metadata": {},
   "source": [
    "### Discusión\n",
    "\n",
    "Para el caso del RandomForest, la complejidad del modelo viene dada por la cantidad de atributos disponibles en cada nodo de cada árbol. Mientras se permitan utilizar más atributos, aumentarán las posibles decisiones que tome cada árbol, y de ese modo la cantidad de parámetros libres.\n",
    "\n",
    "En primer lugar, podemos notar que la métrica ROC AUC tiene un valor óptimo sobre los datos de entrenamiento para cualquier valor de la complejidad, nuevamente con valores menores sobre los datos de validación. Este error sobre validación disminuye ligeramente al aumentar la cantidad de atributos disponibles, pero presenta cierta dispersión. \n",
    "\n",
    "Creemos que el constante valor perfecto de la ROC AUC sobre los datos de entrenamiento se debe a el bajo sesgo del algortimo, pues se utilizan árboles que pueden crecer profundo (lo cual resulta en un bajo sesgo para cada árbol). El promediado sobre el conjunto de árboles resulta en una reducción de la varianza. \n",
    "\n"
   ]
  },
  {
   "cell_type": "code",
   "execution_count": null,
   "metadata": {},
   "outputs": [],
   "source": [
    "tuned_parameters = [{'n_estimators':[200], 'max_features':range(1, 100, 5), 'max_depth':range(1,11)}]\n",
    "%time GridSearch(RandomForestClassifier(random_state=1234, n_jobs = -1), tuned_parameters)"
   ]
  },
  {
   "cell_type": "code",
   "execution_count": 15,
   "metadata": {},
   "outputs": [
    {
     "data": {
      "text/plain": [
       "<matplotlib.legend.Legend at 0x7fb09a825588>"
      ]
     },
     "execution_count": 15,
     "metadata": {},
     "output_type": "execute_result"
    },
    {
     "data": {
      "image/png": "[encoded data removed]",
      "text/plain": [
       "<matplotlib.figure.Figure at 0x7fb09a490080>"
      ]
     },
     "metadata": {},
     "output_type": "display_data"
    }
   ],
   "source": [
    "train_sizes, train_scores_forest, valid_scores_forest = learning_curve(\n",
    "    RandomForestClassifier(n_estimators=200, max_features=1, max_depth=5, n_jobs=-1), X_dev_np, y_dev_np, train_sizes=range(5, 199, 5), cv=5, \n",
    "    scoring = 'roc_auc', random_state=1234, n_jobs=-1)\n",
    "\n",
    "plt.figure()\n",
    "plt.plot(train_sizes, 1-np.mean(train_scores_forest, axis = 1), color = 'blue', label = 'Error de entrenamiento')\n",
    "plt.plot(train_sizes, 1-np.mean(valid_scores_forest, axis = 1), color = 'red', label = 'Error de validación')\n",
    "#plt.ylim(0, 0.6)\n",
    "plt.xlabel('Datos de entrenamiento')\n",
    "plt.ylabel('Error')\n",
    "plt.title('Curva de aprendizaje: Random Forest')\n",
    "plt.grid(True)\n",
    "plt.legend()\n",
    "#print(train_scores_forest)"
   ]
  },
  {
   "cell_type": "markdown",
   "metadata": {},
   "source": [
    "### Discusión\n",
    "Vemos aquí que el error sobre los datos de entrenamiento es prácticamente nulo. Esto indica que el sesgo (al menos considerando sólo los datos de entrenamiento) _parece_ ser muy bajo. Por otro lado, el error de validación disminuye notablemente al aumentar la cantidad de datos de entrenamiento de 5 a 100. Su disminución se frena gradualmente y, pasado ese rango, parece estabilizarse. \n",
    "Observando la distancia entre curvas, vemos que la varianza disminuye de igual manera, y su disminución también se hace menos pronunciada aumentando la cantidad de datos. Al pasar los 125 datos, parece haberse estabilizado. \n",
    "\n",
    "Teniendo en cuenta lo anterior, podemos indicar que no resultaría útil conseguir más datos para mejorar la performance del modelo.\n"
   ]
  },
  {
   "cell_type": "markdown",
   "metadata": {},
   "source": [
    "## Punto Extra"
   ]
  },
  {
   "cell_type": "code",
   "execution_count": 16,
   "metadata": {},
   "outputs": [
    {
     "name": "stdout",
     "output_type": "stream",
     "text": [
      "# Tuning hyper-parameters for roc_auc\n",
      "\n",
      "Best parameters set found on development set:\n",
      "\n",
      "{'n_estimators': 168, 'max_depth': 1, 'learning_rate': 0.15454545454545454}\n",
      "\n",
      "Grid scores on development set:\n",
      "\n",
      "0.875 (+/-0.087) for {'n_estimators': 90, 'max_depth': 1, 'learning_rate': 0.96363636363636362}\n",
      "0.803 (+/-0.141) for {'n_estimators': 188, 'max_depth': 10, 'learning_rate': 0.84545454545454535}\n",
      "0.877 (+/-0.082) for {'n_estimators': 122, 'max_depth': 3, 'learning_rate': 0.65454545454545454}\n",
      "0.865 (+/-0.148) for {'n_estimators': 56, 'max_depth': 4, 'learning_rate': 0.97272727272727266}\n",
      "0.835 (+/-0.084) for {'n_estimators': 199, 'max_depth': 5, 'learning_rate': 0.47272727272727266}\n",
      "0.875 (+/-0.123) for {'n_estimators': 162, 'max_depth': 3, 'learning_rate': 0.24545454545454545}\n",
      "0.882 (+/-0.066) for {'n_estimators': 67, 'max_depth': 2, 'learning_rate': 0.3545454545454545}\n",
      "0.795 (+/-0.124) for {'n_estimators': 47, 'max_depth': 8, 'learning_rate': 0.28181818181818186}\n",
      "0.822 (+/-0.104) for {'n_estimators': 97, 'max_depth': 8, 'learning_rate': 0.13636363636363635}\n",
      "0.779 (+/-0.168) for {'n_estimators': 156, 'max_depth': 8, 'learning_rate': 0.79999999999999993}\n",
      "0.819 (+/-0.114) for {'n_estimators': 194, 'max_depth': 10, 'learning_rate': 0.72727272727272718}\n",
      "0.777 (+/-0.136) for {'n_estimators': 52, 'max_depth': 10, 'learning_rate': 0.84545454545454535}\n",
      "0.798 (+/-0.043) for {'n_estimators': 89, 'max_depth': 5, 'learning_rate': 0.28181818181818186}\n",
      "0.890 (+/-0.108) for {'n_estimators': 101, 'max_depth': 1, 'learning_rate': 0.13636363636363635}\n",
      "0.803 (+/-0.123) for {'n_estimators': 68, 'max_depth': 10, 'learning_rate': 0.42727272727272725}\n",
      "0.632 (+/-0.119) for {'n_estimators': 1, 'max_depth': 1, 'learning_rate': 0.67272727272727273}\n",
      "0.809 (+/-0.104) for {'n_estimators': 77, 'max_depth': 9, 'learning_rate': 0.66363636363636358}\n",
      "0.899 (+/-0.093) for {'n_estimators': 129, 'max_depth': 1, 'learning_rate': 0.46363636363636362}\n",
      "0.804 (+/-0.127) for {'n_estimators': 148, 'max_depth': 8, 'learning_rate': 0.42727272727272725}\n",
      "0.816 (+/-0.085) for {'n_estimators': 190, 'max_depth': 10, 'learning_rate': 0.51818181818181819}\n",
      "0.818 (+/-0.107) for {'n_estimators': 108, 'max_depth': 9, 'learning_rate': 0.6272727272727272}\n",
      "0.814 (+/-0.081) for {'n_estimators': 47, 'max_depth': 9, 'learning_rate': 0.31818181818181818}\n",
      "0.881 (+/-0.101) for {'n_estimators': 184, 'max_depth': 1, 'learning_rate': 0.86363636363636354}\n",
      "0.885 (+/-0.099) for {'n_estimators': 109, 'max_depth': 3, 'learning_rate': 0.57272727272727275}\n",
      "0.776 (+/-0.129) for {'n_estimators': 174, 'max_depth': 8, 'learning_rate': 0.70909090909090899}\n",
      "0.877 (+/-0.122) for {'n_estimators': 110, 'max_depth': 1, 'learning_rate': 0.79999999999999993}\n",
      "0.798 (+/-0.128) for {'n_estimators': 20, 'max_depth': 8, 'learning_rate': 0.79090909090909089}\n",
      "0.888 (+/-0.103) for {'n_estimators': 125, 'max_depth': 1, 'learning_rate': 0.45454545454545459}\n",
      "0.815 (+/-0.030) for {'n_estimators': 137, 'max_depth': 5, 'learning_rate': 0.32727272727272727}\n",
      "0.838 (+/-0.080) for {'n_estimators': 104, 'max_depth': 5, 'learning_rate': 0.44545454545454544}\n",
      "0.734 (+/-0.122) for {'n_estimators': 11, 'max_depth': 10, 'learning_rate': 0.20000000000000001}\n",
      "0.768 (+/-0.136) for {'n_estimators': 82, 'max_depth': 8, 'learning_rate': 0.87272727272727268}\n",
      "0.820 (+/-0.108) for {'n_estimators': 132, 'max_depth': 7, 'learning_rate': 0.19090909090909092}\n",
      "0.900 (+/-0.090) for {'n_estimators': 168, 'max_depth': 1, 'learning_rate': 0.15454545454545454}\n",
      "0.894 (+/-0.089) for {'n_estimators': 95, 'max_depth': 3, 'learning_rate': 0.44545454545454544}\n",
      "0.856 (+/-0.082) for {'n_estimators': 88, 'max_depth': 4, 'learning_rate': 0.32727272727272727}\n",
      "0.804 (+/-0.144) for {'n_estimators': 103, 'max_depth': 8, 'learning_rate': 0.77272727272727271}\n",
      "0.870 (+/-0.108) for {'n_estimators': 134, 'max_depth': 2, 'learning_rate': 0.97272727272727266}\n",
      "0.804 (+/-0.118) for {'n_estimators': 78, 'max_depth': 7, 'learning_rate': 0.30909090909090908}\n",
      "0.894 (+/-0.099) for {'n_estimators': 167, 'max_depth': 2, 'learning_rate': 0.72727272727272718}\n",
      "0.820 (+/-0.089) for {'n_estimators': 110, 'max_depth': 9, 'learning_rate': 0.1090909090909091}\n",
      "0.880 (+/-0.115) for {'n_estimators': 133, 'max_depth': 1, 'learning_rate': 0.76363636363636356}\n",
      "0.810 (+/-0.135) for {'n_estimators': 177, 'max_depth': 8, 'learning_rate': 0.75454545454545452}\n",
      "0.804 (+/-0.113) for {'n_estimators': 135, 'max_depth': 7, 'learning_rate': 0.14545454545454545}\n",
      "0.821 (+/-0.082) for {'n_estimators': 197, 'max_depth': 6, 'learning_rate': 0.40909090909090906}\n",
      "0.788 (+/-0.148) for {'n_estimators': 79, 'max_depth': 10, 'learning_rate': 0.96363636363636362}\n",
      "0.797 (+/-0.119) for {'n_estimators': 18, 'max_depth': 8, 'learning_rate': 0.67272727272727273}\n",
      "0.835 (+/-0.094) for {'n_estimators': 129, 'max_depth': 6, 'learning_rate': 0.5}\n",
      "0.801 (+/-0.139) for {'n_estimators': 100, 'max_depth': 10, 'learning_rate': 0.40909090909090906}\n",
      "0.817 (+/-0.112) for {'n_estimators': 36, 'max_depth': 8, 'learning_rate': 0.5}\n",
      "\n",
      "CPU times: user 40.8 s, sys: 116 ms, total: 41 s\n",
      "Wall time: 40.8 s\n"
     ]
    }
   ],
   "source": [
    "# Extra\n",
    "\n",
    "from sklearn.ensemble import GradientBoostingClassifier\n",
    "\n",
    "tuned_parameters = {'n_estimators':range(1,200), 'learning_rate':np.linspace(0.1,1,100) ,'max_depth':range(1,11)}\n",
    "#tuned_parameters = {'n_estimators':range(1,100)}\n",
    "n_iter = 50\n",
    "\n",
    "%time RandomSearch(GradientBoostingClassifier(), tuned_parameters, n_iter)"
   ]
  },
  {
   "cell_type": "markdown",
   "metadata": {},
   "source": [
    "### Discusión\n",
    "\n",
    "Al realizar la GridSearch sobre los hiperparámetros ```max_features``` y ```max_depth``` del algoritmo RandomForest con 200 árboles, observamos que los puntajes de ROC AUC obtenidos fueron de aproximadamente 0.86-0.87 en general, con poca dispersión ente ellos. \n",
    "\n",
    "Por otro lado, al utilizar la RandomSearch sobre el algoritmo GradientBoost obtenemos resultados de la métrica muy variables entre sí. "
   ]
  },
  {
   "cell_type": "code",
   "execution_count": 22,
   "metadata": {},
   "outputs": [
    {
     "name": "stdout",
     "output_type": "stream",
     "text": [
      "ROC AUCs para diferentes modelos:\n"
     ]
    },
    {
     "data": {
      "text/plain": [
       "DecisionTreeClassifier(class_weight=None, criterion='entropy', max_depth=2,\n",
       "            max_features=None, max_leaf_nodes=None,\n",
       "            min_impurity_decrease=0.0, min_impurity_split=None,\n",
       "            min_samples_leaf=1, min_samples_split=2,\n",
       "            min_weight_fraction_leaf=0.0, presort=False, random_state=None,\n",
       "            splitter='best')"
      ]
     },
     "metadata": {},
     "output_type": "display_data"
    },
    {
     "data": {
      "text/plain": [
       "0.5915159764080626"
      ]
     },
     "metadata": {},
     "output_type": "display_data"
    },
    {
     "name": "stdout",
     "output_type": "stream",
     "text": [
      "==============================\n"
     ]
    },
    {
     "data": {
      "text/plain": [
       "KNeighborsClassifier(algorithm='auto', leaf_size=30, metric='minkowski',\n",
       "           metric_params=None, n_jobs=None, n_neighbors=51, p=1,\n",
       "           weights='distance')"
      ]
     },
     "metadata": {},
     "output_type": "display_data"
    },
    {
     "data": {
      "text/plain": [
       "0.7109987685527253"
      ]
     },
     "metadata": {},
     "output_type": "display_data"
    },
    {
     "name": "stdout",
     "output_type": "stream",
     "text": [
      "==============================\n"
     ]
    },
    {
     "data": {
      "text/plain": [
       "LinearDiscriminantAnalysis(n_components=None, priors=None, shrinkage='auto',\n",
       "              solver='lsqr', store_covariance=False, tol=0.0001)"
      ]
     },
     "metadata": {},
     "output_type": "display_data"
    },
    {
     "data": {
      "text/plain": [
       "0.6975176615464386"
      ]
     },
     "metadata": {},
     "output_type": "display_data"
    },
    {
     "name": "stdout",
     "output_type": "stream",
     "text": [
      "==============================\n"
     ]
    },
    {
     "data": {
      "text/plain": [
       "GaussianNB(priors=None, var_smoothing=1e-09)"
      ]
     },
     "metadata": {},
     "output_type": "display_data"
    },
    {
     "data": {
      "text/plain": [
       "0.6822217901354592"
      ]
     },
     "metadata": {},
     "output_type": "display_data"
    },
    {
     "name": "stdout",
     "output_type": "stream",
     "text": [
      "==============================\n"
     ]
    },
    {
     "data": {
      "text/plain": [
       "RandomForestClassifier(bootstrap=True, class_weight=None, criterion='gini',\n",
       "            max_depth=None, max_features=21, max_leaf_nodes=None,\n",
       "            min_impurity_decrease=0.0, min_impurity_split=None,\n",
       "            min_samples_leaf=1, min_samples_split=2,\n",
       "            min_weight_fraction_leaf=0.0, n_estimators=200, n_jobs=None,\n",
       "            oob_score=False, random_state=None, verbose=0,\n",
       "            warm_start=False)"
      ]
     },
     "metadata": {},
     "output_type": "display_data"
    },
    {
     "data": {
      "text/plain": [
       "0.6830967658305788"
      ]
     },
     "metadata": {},
     "output_type": "display_data"
    },
    {
     "name": "stdout",
     "output_type": "stream",
     "text": [
      "==============================\n"
     ]
    },
    {
     "data": {
      "text/plain": [
       "LinearSVC(C=0.001539926526059492, class_weight=None, dual=True,\n",
       "     fit_intercept=True, intercept_scaling=1, loss='squared_hinge',\n",
       "     max_iter=1000, multi_class='ovr', penalty='l2', random_state=None,\n",
       "     tol=0.0001, verbose=0)"
      ]
     },
     "metadata": {},
     "output_type": "display_data"
    },
    {
     "data": {
      "text/plain": [
       "0.7272344286732776"
      ]
     },
     "metadata": {},
     "output_type": "display_data"
    },
    {
     "name": "stdout",
     "output_type": "stream",
     "text": [
      "==============================\n"
     ]
    },
    {
     "data": {
      "text/plain": [
       "GradientBoostingClassifier(criterion='friedman_mse', init=None,\n",
       "              learning_rate=0.15454545454545454, loss='deviance',\n",
       "              max_depth=1, max_features=None, max_leaf_nodes=None,\n",
       "              min_impurity_decrease=0.0, min_impurity_split=None,\n",
       "              min_samples_leaf=1, min_samples_split=2,\n",
       "              min_weight_fraction_leaf=0.0, n_estimators=168,\n",
       "              n_iter_no_change=None, presort='auto', random_state=None,\n",
       "              subsample=1.0, tol=0.0001, validation_fraction=0.1,\n",
       "              verbose=0, warm_start=False)"
      ]
     },
     "metadata": {},
     "output_type": "display_data"
    },
    {
     "data": {
      "text/plain": [
       "0.6597316741201633"
      ]
     },
     "metadata": {},
     "output_type": "display_data"
    },
    {
     "name": "stdout",
     "output_type": "stream",
     "text": [
      "==============================\n"
     ]
    }
   ],
   "source": [
    "# Competencia\n",
    "\n",
    "from sklearn.svm import LinearSVC\n",
    "from sklearn.ensemble import RandomForestClassifier\n",
    "\n",
    "from sklearn.neighbors import KNeighborsClassifier\n",
    "from sklearn.discriminant_analysis import LinearDiscriminantAnalysis\n",
    "from sklearn.tree import DecisionTreeClassifier\n",
    "from sklearn.naive_bayes import GaussianNB\n",
    "from sklearn.svm import LinearSVC\n",
    "from sklearn.ensemble import GradientBoostingClassifier\n",
    "\n",
    "X_eval_np = np.array(X_eval)\n",
    "y_eval_np = np.array(y_eval).ravel()\n",
    "\n",
    "models = [\n",
    "    DecisionTreeClassifier(max_depth= 2, criterion= 'entropy'),\n",
    "    KNeighborsClassifier(p=1, n_neighbors= 51, weights= 'distance'),\n",
    "    LinearDiscriminantAnalysis(shrinkage= 'auto', solver= 'lsqr'),\n",
    "    GaussianNB(priors = None),\n",
    "    RandomForestClassifier(max_features=21, n_estimators= 200),\n",
    "    LinearSVC(C=0.001539926526059492),\n",
    "    GradientBoostingClassifier(n_estimators= 168, learning_rate= 0.15454545454545454, max_depth=1)\n",
    "]\n",
    "\n",
    "print(\"ROC AUCs para diferentes modelos:\")\n",
    "for model in models:\n",
    "\n",
    "    model.fit(X_dev_np, y_dev_np)\n",
    "    y_pred = model.predict(X_eval_np)\n",
    "    r = sklearn.metrics.roc_auc_score(y_eval_np, y_pred, sample_weight=None)\n",
    "    #print(\"ROC AUC de {0}:\".format(str(model)))\n",
    "    display(model)\n",
    "    display(r)\n",
    "    print(\"==============================\")\n"
   ]
  },
  {
   "cell_type": "code",
   "execution_count": 37,
   "metadata": {},
   "outputs": [
    {
     "data": {
      "text/html": [
       "<div>\n",
       "<style scoped>\n",
       "    .dataframe tbody tr th:only-of-type {\n",
       "        vertical-align: middle;\n",
       "    }\n",
       "\n",
       "    .dataframe tbody tr th {\n",
       "        vertical-align: top;\n",
       "    }\n",
       "\n",
       "    .dataframe thead th {\n",
       "        text-align: right;\n",
       "    }\n",
       "</style>\n",
       "<table border=\"1\" class=\"dataframe\">\n",
       "  <thead>\n",
       "    <tr style=\"text-align: right;\">\n",
       "      <th></th>\n",
       "      <th>output</th>\n",
       "    </tr>\n",
       "    <tr>\n",
       "      <th>index</th>\n",
       "      <th></th>\n",
       "    </tr>\n",
       "  </thead>\n",
       "  <tbody>\n",
       "    <tr>\n",
       "      <th>501</th>\n",
       "      <td>0.5478</td>\n",
       "    </tr>\n",
       "    <tr>\n",
       "      <th>502</th>\n",
       "      <td>0.5669</td>\n",
       "    </tr>\n",
       "    <tr>\n",
       "      <th>503</th>\n",
       "      <td>0.5492</td>\n",
       "    </tr>\n",
       "    <tr>\n",
       "      <th>504</th>\n",
       "      <td>0.6299</td>\n",
       "    </tr>\n",
       "    <tr>\n",
       "      <th>505</th>\n",
       "      <td>0.2931</td>\n",
       "    </tr>\n",
       "    <tr>\n",
       "      <th>...</th>\n",
       "      <td>...</td>\n",
       "    </tr>\n",
       "    <tr>\n",
       "      <th>4995</th>\n",
       "      <td>0.3520</td>\n",
       "    </tr>\n",
       "    <tr>\n",
       "      <th>4996</th>\n",
       "      <td>0.3325</td>\n",
       "    </tr>\n",
       "    <tr>\n",
       "      <th>4997</th>\n",
       "      <td>0.8071</td>\n",
       "    </tr>\n",
       "    <tr>\n",
       "      <th>4998</th>\n",
       "      <td>0.7429</td>\n",
       "    </tr>\n",
       "    <tr>\n",
       "      <th>4999</th>\n",
       "      <td>0.2186</td>\n",
       "    </tr>\n",
       "  </tbody>\n",
       "</table>\n",
       "<p>4499 rows × 1 columns</p>\n",
       "</div>"
      ],
      "text/plain": [
       "       output\n",
       "index        \n",
       "501    0.5478\n",
       "502    0.5669\n",
       "503    0.5492\n",
       "504    0.6299\n",
       "505    0.2931\n",
       "...       ...\n",
       "4995   0.3520\n",
       "4996   0.3325\n",
       "4997   0.8071\n",
       "4998   0.7429\n",
       "4999   0.2186\n",
       "\n",
       "[4499 rows x 1 columns]"
      ]
     },
     "metadata": {},
     "output_type": "display_data"
    }
   ],
   "source": [
    "best_model = KNeighborsClassifier(p=1, n_neighbors= 51, weights= 'distance')\n",
    "best_model.fit(X_dev_np, y_dev_np)\n",
    "all_probas = best_model.predict_proba(np.array(X_competencia))\n",
    "\n",
    "true_proba = list()\n",
    "for x in all_probas:\n",
    "    true_proba.append(x[1])\n",
    "    \n",
    "final_res = pd.DataFrame(index=X_competencia.index)\n",
    "final_res[\"output\"] = np.around(true_proba, decimals=4)\n",
    "\n",
    "display(final_res)\n",
    "final_res.to_csv(\"y_competencia.csv\")\n",
    "\n",
    "auc_roc_held_out = sklearn.metrics.roc_auc_score(np.array(y_eval).ravel(), best_model.predict(np.array(X_eval)), sample_weight=None)\n",
    "f = open(\"auc_roc_competencia.txt\", \"w\")\n",
    "f.write(str(auc_roc_held_out - 0.02)) #usamos el auc roc del held out, menos 2 puntos porcentuales para ajustar sobreestimacion\n",
    "f.close()"
   ]
  },
  {
   "cell_type": "markdown",
   "metadata": {},
   "source": [
    "## Competencias\n",
    "\n",
    "La entrega del trabajo estará acompañada de una competencia en la cual deberán poner a prueba su mejor modelo y sobre todo, su capacidad para estimar sus resultados. \n",
    "\n",
    "Su tarea será estimar la performance (AUC ROC) que tendrá su mejor modelo en datos de evaluación (X_competencia). \n",
    "\n",
    "Para ello, deberán predecir las probabilidades de las distintas instancias con su modelo, enviarnos dichas probabilidades junto a una estimación con 4 decimales de cuál será el AUC ROC resultante y calcularemos el resultado real. El grupo que consiga acercarse más al valor real, será el grupo ganador.  \n",
    "\n",
    "Recomendamos no perder de vista esta competencia en el momento de separar los datos en los primeros puntos. \n",
    "\n",
    "Para esto, junto con la entrega del informe, deberán enviar un archivo en formato csv con las columnas “index” y “output” (ver ejemplo de archivo en: [y_competencia_ejemplo.csv](https://github.com/pbrusco/aa-notebooks/blob/master/TP1/y_competencia_ejemplo.csv)) y un valor esperado de AUC ROC. \n",
    "\n",
    "\n",
    "## Entrega\n",
    "- Contarán con un esqueleto en formato Jupyter Notebook en donde tendrán que completar las celdas faltantes (ya sea con explicaciones y gráficos o código). \n",
    "- El notebook final deberá ser entregado en formatos .html e .ipynb. Es necesario que los resultados puedan reproducirse al ejecutar todas las celdas en orden (Kernel - Restart and Run All) utilizando las bibliotecas requeridas en el archivo: requirements.txt del repositorio. \n",
    "- Tienen tiempo hasta las 23:59hs del día miércoles 17/10/2018. La entrega se debe realizar a través del campus virtual y debe contener el informe.\n",
    "- El trabajo deberá elaborarse en grupos de 3 personas.\n",
    "- Se podrán pedir pruebas de integridad y autoría; es decir, verificar que la salida solicitada es fruto del modelo presentado y que el modelo fue construido según lo requerido en este enunciado.\n",
    "- La evaluación será grupal y se basará en la calidad del informe (presentación, claridad, prolijidad); la originalidad, practicidad y coherencia técnica de la solución; la corrección y solidez de las pruebas realizadas.\n",
    "- En el primer parcial se incluirá una pregunta sobre la solución entregada. Esa pregunta no influirá en la nota del parcial, pero sí en la nota individual del TP1.\n",
    "- La participación en la competencia es obligatoria. De todas maneras, el resultado no incidirán en la nota de la materia.\n",
    "- Los ejercicios extra son opcionales para aprobar el TP, pero son obligatorios para promocionar la materia.\n"
   ]
  },
  {
   "cell_type": "code",
   "execution_count": null,
   "metadata": {
    "collapsed": true
   },
   "outputs": [],
   "source": []
  }
 ],
 "metadata": {
  "kernelspec": {
   "display_name": "Python 3",
   "language": "python",
   "name": "python3"
  },
  "language_info": {
   "codemirror_mode": {
    "name": "ipython",
    "version": 3
   },
   "file_extension": ".py",
   "mimetype": "text/x-python",
   "name": "python",
   "nbconvert_exporter": "python",
   "pygments_lexer": "ipython3",
   "version": "3.6.5"
  }
 },
 "nbformat": 4,
 "nbformat_minor": 2
}
